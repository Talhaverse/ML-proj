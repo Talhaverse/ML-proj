{
 "cells": [
  {
   "cell_type": "code",
   "execution_count": 24,
   "metadata": {},
   "outputs": [
    {
     "ename": "",
     "evalue": "",
     "output_type": "error",
     "traceback": [
      "\u001b[1;31mCanceled future for execute_request message before replies were done"
     ]
    }
   ],
   "source": [
    "# Import necessary libraries\n",
    "import pandas as pd\n",
    "from sklearn.model_selection import train_test_split\n",
    "from sklearn.preprocessing import StandardScaler\n",
    "from sklearn.svm import SVC\n",
    "from sklearn.metrics import accuracy_score\n",
    "#\n",
    "# Load the training and test data  \n",
    "train_df = pd.read_csv(\"trainDataCleanedX.csv\")\n",
    "test_df = pd.read_csv('testDataCleanedX.csv')\n",
    "# test_df.drop()\n",
    "# Selecting features and target for training data  \n",
    "X_train = train_df.drop('Investment_Failed', axis=1)  # This removes the target column from the DataFrame, leaving only the features  \n",
    "y_train = train_df['Investment_Failed']  # This selects just the target column\n",
    "# Selecting features and target for test data  \n",
    "X_test = pd.read_csv('testDataCleanedX.csv')  # Assuming test data also contains the target column  \n",
    "y_test = test_df['Investment_Failed']\n",
    "\n",
    "\n",
    "# # Feature scaling (optional but recommended for some algorithms like SVM)\n",
    "# scaler = StandardScaler()\n",
    "# X_train = scaler.fit_transform(X_train)\n",
    "# X_test = scaler.transform(X_test)\n",
    "\n",
    "# Initialize the classifier (you can use any other classifier as well)\n",
    "classifier = SVC(kernel='linear')\n",
    "\n",
    "# Train the classifier\n",
    "classifier.fit(X_train, y_train)\n",
    "\n",
    "# Make predictions on the test set\n",
    "y_pred = classifier.predict(X_test)\n",
    "\n",
    "# Evaluate the model\n",
    "accuracy = accuracy_score(y_test, y_pred)\n",
    "print(\"Accuracy:\", accuracy)\n",
    "\n"
   ]
  },
  {
   "cell_type": "code",
   "execution_count": 7,
   "metadata": {},
   "outputs": [],
   "source": [
    "import pandas as pd\n",
    "data = pd.read_excel('trainDataCleaned.xlsx')\n",
    "df = pd.DataFrame(data)"
   ]
  },
  {
   "cell_type": "code",
   "execution_count": 8,
   "metadata": {},
   "outputs": [
    {
     "data": {
      "text/html": [
       "<div>\n",
       "<style scoped>\n",
       "    .dataframe tbody tr th:only-of-type {\n",
       "        vertical-align: middle;\n",
       "    }\n",
       "\n",
       "    .dataframe tbody tr th {\n",
       "        vertical-align: top;\n",
       "    }\n",
       "\n",
       "    .dataframe thead th {\n",
       "        text-align: right;\n",
       "    }\n",
       "</style>\n",
       "<table border=\"1\" class=\"dataframe\">\n",
       "  <thead>\n",
       "    <tr style=\"text-align: right;\">\n",
       "      <th></th>\n",
       "      <th>Unnamed: 0</th>\n",
       "      <th>Investor_ID</th>\n",
       "      <th>Age</th>\n",
       "      <th>Annual_Income</th>\n",
       "      <th>Investment_Amount</th>\n",
       "      <th>Risk_Tolerance_Score</th>\n",
       "      <th>Months_of_Investing_Experience</th>\n",
       "      <th>Number_of_Active_Investments</th>\n",
       "      <th>Potential_Return_Rate</th>\n",
       "      <th>Investment_Duration</th>\n",
       "      <th>Investment_to_Income_Ratio</th>\n",
       "      <th>Education</th>\n",
       "      <th>Employment_Status</th>\n",
       "      <th>Marital_Status</th>\n",
       "      <th>Owns_Property</th>\n",
       "      <th>Has_Dependents</th>\n",
       "      <th>Investment_Sector</th>\n",
       "      <th>Has_Investment_Advisor</th>\n",
       "      <th>Investment_Failed</th>\n",
       "    </tr>\n",
       "  </thead>\n",
       "  <tbody>\n",
       "    <tr>\n",
       "      <th>0</th>\n",
       "      <td>0</td>\n",
       "      <td>0003HW9UAA</td>\n",
       "      <td>51.000000</td>\n",
       "      <td>82793.709196</td>\n",
       "      <td>87300.0</td>\n",
       "      <td>358</td>\n",
       "      <td>13</td>\n",
       "      <td>3.0</td>\n",
       "      <td>18.100000</td>\n",
       "      <td>12</td>\n",
       "      <td>0.85</td>\n",
       "      <td>2</td>\n",
       "      <td>1</td>\n",
       "      <td>1</td>\n",
       "      <td>0</td>\n",
       "      <td>0</td>\n",
       "      <td>4</td>\n",
       "      <td>1</td>\n",
       "      <td>0</td>\n",
       "    </tr>\n",
       "    <tr>\n",
       "      <th>1</th>\n",
       "      <td>1</td>\n",
       "      <td>000ELHLBPV</td>\n",
       "      <td>37.000000</td>\n",
       "      <td>81658.000000</td>\n",
       "      <td>152598.0</td>\n",
       "      <td>792</td>\n",
       "      <td>23</td>\n",
       "      <td>4.0</td>\n",
       "      <td>14.060000</td>\n",
       "      <td>24</td>\n",
       "      <td>0.86</td>\n",
       "      <td>4</td>\n",
       "      <td>3</td>\n",
       "      <td>1</td>\n",
       "      <td>1</td>\n",
       "      <td>0</td>\n",
       "      <td>5</td>\n",
       "      <td>0</td>\n",
       "      <td>1</td>\n",
       "    </tr>\n",
       "    <tr>\n",
       "      <th>2</th>\n",
       "      <td>2</td>\n",
       "      <td>000G6CHJON</td>\n",
       "      <td>46.026004</td>\n",
       "      <td>82793.709196</td>\n",
       "      <td>77767.0</td>\n",
       "      <td>359</td>\n",
       "      <td>57</td>\n",
       "      <td>4.0</td>\n",
       "      <td>4.310000</td>\n",
       "      <td>60</td>\n",
       "      <td>0.60</td>\n",
       "      <td>3</td>\n",
       "      <td>4</td>\n",
       "      <td>2</td>\n",
       "      <td>0</td>\n",
       "      <td>0</td>\n",
       "      <td>3</td>\n",
       "      <td>1</td>\n",
       "      <td>0</td>\n",
       "    </tr>\n",
       "    <tr>\n",
       "      <th>3</th>\n",
       "      <td>3</td>\n",
       "      <td>000K09D0JB</td>\n",
       "      <td>54.000000</td>\n",
       "      <td>42344.000000</td>\n",
       "      <td>13261.0</td>\n",
       "      <td>366</td>\n",
       "      <td>115</td>\n",
       "      <td>1.0</td>\n",
       "      <td>13.417184</td>\n",
       "      <td>60</td>\n",
       "      <td>0.21</td>\n",
       "      <td>4</td>\n",
       "      <td>1</td>\n",
       "      <td>1</td>\n",
       "      <td>0</td>\n",
       "      <td>0</td>\n",
       "      <td>3</td>\n",
       "      <td>1</td>\n",
       "      <td>0</td>\n",
       "    </tr>\n",
       "    <tr>\n",
       "      <th>4</th>\n",
       "      <td>4</td>\n",
       "      <td>000NTH4YTU</td>\n",
       "      <td>63.000000</td>\n",
       "      <td>48898.000000</td>\n",
       "      <td>193990.0</td>\n",
       "      <td>792</td>\n",
       "      <td>53</td>\n",
       "      <td>4.0</td>\n",
       "      <td>5.650000</td>\n",
       "      <td>48</td>\n",
       "      <td>0.82</td>\n",
       "      <td>3</td>\n",
       "      <td>3</td>\n",
       "      <td>2</td>\n",
       "      <td>1</td>\n",
       "      <td>0</td>\n",
       "      <td>2</td>\n",
       "      <td>1</td>\n",
       "      <td>0</td>\n",
       "    </tr>\n",
       "  </tbody>\n",
       "</table>\n",
       "</div>"
      ],
      "text/plain": [
       "   Unnamed: 0 Investor_ID        Age  Annual_Income  Investment_Amount  \\\n",
       "0           0  0003HW9UAA  51.000000   82793.709196            87300.0   \n",
       "1           1  000ELHLBPV  37.000000   81658.000000           152598.0   \n",
       "2           2  000G6CHJON  46.026004   82793.709196            77767.0   \n",
       "3           3  000K09D0JB  54.000000   42344.000000            13261.0   \n",
       "4           4  000NTH4YTU  63.000000   48898.000000           193990.0   \n",
       "\n",
       "   Risk_Tolerance_Score  Months_of_Investing_Experience  \\\n",
       "0                   358                              13   \n",
       "1                   792                              23   \n",
       "2                   359                              57   \n",
       "3                   366                             115   \n",
       "4                   792                              53   \n",
       "\n",
       "   Number_of_Active_Investments  Potential_Return_Rate  Investment_Duration  \\\n",
       "0                           3.0              18.100000                   12   \n",
       "1                           4.0              14.060000                   24   \n",
       "2                           4.0               4.310000                   60   \n",
       "3                           1.0              13.417184                   60   \n",
       "4                           4.0               5.650000                   48   \n",
       "\n",
       "   Investment_to_Income_Ratio  Education  Employment_Status  Marital_Status  \\\n",
       "0                        0.85          2                  1               1   \n",
       "1                        0.86          4                  3               1   \n",
       "2                        0.60          3                  4               2   \n",
       "3                        0.21          4                  1               1   \n",
       "4                        0.82          3                  3               2   \n",
       "\n",
       "   Owns_Property  Has_Dependents  Investment_Sector  Has_Investment_Advisor  \\\n",
       "0              0               0                  4                       1   \n",
       "1              1               0                  5                       0   \n",
       "2              0               0                  3                       1   \n",
       "3              0               0                  3                       1   \n",
       "4              1               0                  2                       1   \n",
       "\n",
       "   Investment_Failed  \n",
       "0                  0  \n",
       "1                  1  \n",
       "2                  0  \n",
       "3                  0  \n",
       "4                  0  "
      ]
     },
     "execution_count": 8,
     "metadata": {},
     "output_type": "execute_result"
    }
   ],
   "source": [
    "df.head()"
   ]
  },
  {
   "cell_type": "code",
   "execution_count": 9,
   "metadata": {},
   "outputs": [],
   "source": [
    "df.drop(['Investor_ID'],axis=1, inplace=True)"
   ]
  },
  {
   "cell_type": "code",
   "execution_count": 5,
   "metadata": {},
   "outputs": [
    {
     "data": {
      "text/html": [
       "<div>\n",
       "<style scoped>\n",
       "    .dataframe tbody tr th:only-of-type {\n",
       "        vertical-align: middle;\n",
       "    }\n",
       "\n",
       "    .dataframe tbody tr th {\n",
       "        vertical-align: top;\n",
       "    }\n",
       "\n",
       "    .dataframe thead th {\n",
       "        text-align: right;\n",
       "    }\n",
       "</style>\n",
       "<table border=\"1\" class=\"dataframe\">\n",
       "  <thead>\n",
       "    <tr style=\"text-align: right;\">\n",
       "      <th></th>\n",
       "      <th>Unnamed: 0</th>\n",
       "      <th>Age</th>\n",
       "      <th>Annual_Income</th>\n",
       "      <th>Investment_Amount</th>\n",
       "      <th>Risk_Tolerance_Score</th>\n",
       "      <th>Months_of_Investing_Experience</th>\n",
       "      <th>Number_of_Active_Investments</th>\n",
       "      <th>Potential_Return_Rate</th>\n",
       "      <th>Investment_Duration</th>\n",
       "      <th>Investment_to_Income_Ratio</th>\n",
       "      <th>Education</th>\n",
       "      <th>Employment_Status</th>\n",
       "      <th>Marital_Status</th>\n",
       "      <th>Owns_Property</th>\n",
       "      <th>Has_Dependents</th>\n",
       "      <th>Investment_Sector</th>\n",
       "      <th>Has_Investment_Advisor</th>\n",
       "      <th>Investment_Failed</th>\n",
       "    </tr>\n",
       "  </thead>\n",
       "  <tbody>\n",
       "    <tr>\n",
       "      <th>0</th>\n",
       "      <td>0</td>\n",
       "      <td>44.323255</td>\n",
       "      <td>73311.0</td>\n",
       "      <td>9698.000000</td>\n",
       "      <td>669</td>\n",
       "      <td>71</td>\n",
       "      <td>4.0</td>\n",
       "      <td>9.13</td>\n",
       "      <td>24</td>\n",
       "      <td>0.30</td>\n",
       "      <td>2</td>\n",
       "      <td>3</td>\n",
       "      <td>3</td>\n",
       "      <td>0</td>\n",
       "      <td>0</td>\n",
       "      <td>4</td>\n",
       "      <td>1</td>\n",
       "      <td>NaN</td>\n",
       "    </tr>\n",
       "    <tr>\n",
       "      <th>1</th>\n",
       "      <td>1</td>\n",
       "      <td>44.323255</td>\n",
       "      <td>123781.0</td>\n",
       "      <td>165751.000000</td>\n",
       "      <td>739</td>\n",
       "      <td>82</td>\n",
       "      <td>2.0</td>\n",
       "      <td>14.74</td>\n",
       "      <td>12</td>\n",
       "      <td>0.71</td>\n",
       "      <td>4</td>\n",
       "      <td>4</td>\n",
       "      <td>3</td>\n",
       "      <td>1</td>\n",
       "      <td>1</td>\n",
       "      <td>3</td>\n",
       "      <td>1</td>\n",
       "      <td>NaN</td>\n",
       "    </tr>\n",
       "    <tr>\n",
       "      <th>2</th>\n",
       "      <td>3</td>\n",
       "      <td>37.000000</td>\n",
       "      <td>109759.0</td>\n",
       "      <td>207283.000000</td>\n",
       "      <td>1008</td>\n",
       "      <td>114</td>\n",
       "      <td>1.0</td>\n",
       "      <td>17.14</td>\n",
       "      <td>12</td>\n",
       "      <td>0.86</td>\n",
       "      <td>2</td>\n",
       "      <td>3</td>\n",
       "      <td>3</td>\n",
       "      <td>0</td>\n",
       "      <td>1</td>\n",
       "      <td>2</td>\n",
       "      <td>0</td>\n",
       "      <td>NaN</td>\n",
       "    </tr>\n",
       "    <tr>\n",
       "      <th>3</th>\n",
       "      <td>4</td>\n",
       "      <td>41.000000</td>\n",
       "      <td>57751.0</td>\n",
       "      <td>131814.590995</td>\n",
       "      <td>836</td>\n",
       "      <td>97</td>\n",
       "      <td>2.0</td>\n",
       "      <td>7.04</td>\n",
       "      <td>60</td>\n",
       "      <td>0.32</td>\n",
       "      <td>1</td>\n",
       "      <td>3</td>\n",
       "      <td>1</td>\n",
       "      <td>1</td>\n",
       "      <td>0</td>\n",
       "      <td>3</td>\n",
       "      <td>0</td>\n",
       "      <td>NaN</td>\n",
       "    </tr>\n",
       "    <tr>\n",
       "      <th>4</th>\n",
       "      <td>5</td>\n",
       "      <td>44.323255</td>\n",
       "      <td>137520.0</td>\n",
       "      <td>182292.000000</td>\n",
       "      <td>629</td>\n",
       "      <td>59</td>\n",
       "      <td>1.0</td>\n",
       "      <td>10.30</td>\n",
       "      <td>12</td>\n",
       "      <td>0.46</td>\n",
       "      <td>3</td>\n",
       "      <td>1</td>\n",
       "      <td>1</td>\n",
       "      <td>1</td>\n",
       "      <td>1</td>\n",
       "      <td>3</td>\n",
       "      <td>0</td>\n",
       "      <td>NaN</td>\n",
       "    </tr>\n",
       "  </tbody>\n",
       "</table>\n",
       "</div>"
      ],
      "text/plain": [
       "   Unnamed: 0        Age  Annual_Income  Investment_Amount  \\\n",
       "0           0  44.323255        73311.0        9698.000000   \n",
       "1           1  44.323255       123781.0      165751.000000   \n",
       "2           3  37.000000       109759.0      207283.000000   \n",
       "3           4  41.000000        57751.0      131814.590995   \n",
       "4           5  44.323255       137520.0      182292.000000   \n",
       "\n",
       "   Risk_Tolerance_Score  Months_of_Investing_Experience  \\\n",
       "0                   669                              71   \n",
       "1                   739                              82   \n",
       "2                  1008                             114   \n",
       "3                   836                              97   \n",
       "4                   629                              59   \n",
       "\n",
       "   Number_of_Active_Investments  Potential_Return_Rate  Investment_Duration  \\\n",
       "0                           4.0                   9.13                   24   \n",
       "1                           2.0                  14.74                   12   \n",
       "2                           1.0                  17.14                   12   \n",
       "3                           2.0                   7.04                   60   \n",
       "4                           1.0                  10.30                   12   \n",
       "\n",
       "   Investment_to_Income_Ratio  Education  Employment_Status  Marital_Status  \\\n",
       "0                        0.30          2                  3               3   \n",
       "1                        0.71          4                  4               3   \n",
       "2                        0.86          2                  3               3   \n",
       "3                        0.32          1                  3               1   \n",
       "4                        0.46          3                  1               1   \n",
       "\n",
       "   Owns_Property  Has_Dependents  Investment_Sector  Has_Investment_Advisor  \\\n",
       "0              0               0                  4                       1   \n",
       "1              1               1                  3                       1   \n",
       "2              0               1                  2                       0   \n",
       "3              1               0                  3                       0   \n",
       "4              1               1                  3                       0   \n",
       "\n",
       "   Investment_Failed  \n",
       "0                NaN  \n",
       "1                NaN  \n",
       "2                NaN  \n",
       "3                NaN  \n",
       "4                NaN  "
      ]
     },
     "execution_count": 5,
     "metadata": {},
     "output_type": "execute_result"
    }
   ],
   "source": [
    "df.head()"
   ]
  },
  {
   "cell_type": "code",
   "execution_count": 10,
   "metadata": {},
   "outputs": [],
   "source": [
    "df.to_csv(\"trainDataCleanedX.csv\")"
   ]
  },
  {
   "cell_type": "code",
   "execution_count": 7,
   "metadata": {},
   "outputs": [],
   "source": [
    "# Importing necessary libraries\n",
    "from sklearn.ensemble import RandomForestClassifier\n",
    "from sklearn.model_selection import train_test_split\n",
    "import pandas as pd\n",
    "\n",
    "# Load train and test data\n",
    "train_data = pd.read_csv('trainDataCleanedX.csv')  # Assuming your train file is in CSV format\n",
    "test_data = pd.read_csv('testDataCleanedX.csv')    # Assuming your test file is in CSV format\n",
    "\n",
    "# Separate features and target variable\n",
    "X_train = train_data.drop(columns=['Investment_Failed'])  # Adjust 'target_column' with your actual target column name\n",
    "y_train = train_data['Investment_Failed']\n",
    "\n",
    "# Splitting the data into training and testing sets\n",
    "X_train, X_val, y_train, y_val = train_test_split(X_train, y_train, test_size=0.1, random_state=42)\n",
    "\n",
    "# Initialize Random Forest classifier\n",
    "rf_classifier = RandomForestClassifier(n_estimators=100, random_state=42)\n",
    "\n",
    "# Train the classifier\n",
    "rf_classifier.fit(X_train, y_train)\n",
    "\n",
    "# Predict on the test data\n",
    "y_pred = rf_classifier.predict(test_data)  # Assuming 'test_data' contains features only\n",
    "\n",
    "# Once trained and tested, you can use rf_classifier for prediction and evaluation\n"
   ]
  },
  {
   "cell_type": "code",
   "execution_count": 3,
   "metadata": {},
   "outputs": [],
   "source": [
    "train_data = pd.read_csv('trainDataCleanedX.csv')  # Assuming your train file is in CSV format\n",
    "test_data = pd.read_csv('testDataCleanedX.csv')    # Assuming your test file is in CSV format\n"
   ]
  },
  {
   "cell_type": "code",
   "execution_count": 8,
   "metadata": {},
   "outputs": [],
   "source": [
    "y_pred = rf_classifier.predict(test_data)\n"
   ]
  },
  {
   "cell_type": "code",
   "execution_count": 9,
   "metadata": {},
   "outputs": [
    {
     "data": {
      "text/plain": [
       "array([0, 0, 0, ..., 0, 0, 1])"
      ]
     },
     "execution_count": 9,
     "metadata": {},
     "output_type": "execute_result"
    }
   ],
   "source": []
  },
  {
   "cell_type": "code",
   "execution_count": 25,
   "metadata": {},
   "outputs": [
    {
     "ename": "ValueError",
     "evalue": "Found input variables with inconsistent numbers of samples: [29061, 22535]",
     "output_type": "error",
     "traceback": [
      "\u001b[0;31m---------------------------------------------------------------------------\u001b[0m",
      "\u001b[0;31mValueError\u001b[0m                                Traceback (most recent call last)",
      "Cell \u001b[0;32mIn[25], line 3\u001b[0m\n\u001b[1;32m      1\u001b[0m \u001b[38;5;66;03m# Evaluate the model\u001b[39;00m\n\u001b[1;32m      2\u001b[0m \u001b[38;5;28;01mfrom\u001b[39;00m \u001b[38;5;21;01msklearn\u001b[39;00m\u001b[38;5;21;01m.\u001b[39;00m\u001b[38;5;21;01mmetrics\u001b[39;00m \u001b[38;5;28;01mimport\u001b[39;00m accuracy_score\n\u001b[0;32m----> 3\u001b[0m accuracy \u001b[38;5;241m=\u001b[39m \u001b[43maccuracy_score\u001b[49m\u001b[43m(\u001b[49m\u001b[43my_pred\u001b[49m\u001b[43m,\u001b[49m\u001b[43my_val\u001b[49m\u001b[43m)\u001b[49m\n\u001b[1;32m      4\u001b[0m \u001b[38;5;28mprint\u001b[39m(\u001b[38;5;124m\"\u001b[39m\u001b[38;5;124mAccuracy:\u001b[39m\u001b[38;5;124m\"\u001b[39m, accuracy)\n",
      "File \u001b[0;32m~/.pyenv/versions/3.11.3/lib/python3.11/site-packages/sklearn/utils/_param_validation.py:213\u001b[0m, in \u001b[0;36mvalidate_params.<locals>.decorator.<locals>.wrapper\u001b[0;34m(*args, **kwargs)\u001b[0m\n\u001b[1;32m    207\u001b[0m \u001b[39mtry\u001b[39;00m:\n\u001b[1;32m    208\u001b[0m     \u001b[39mwith\u001b[39;00m config_context(\n\u001b[1;32m    209\u001b[0m         skip_parameter_validation\u001b[39m=\u001b[39m(\n\u001b[1;32m    210\u001b[0m             prefer_skip_nested_validation \u001b[39mor\u001b[39;00m global_skip_validation\n\u001b[1;32m    211\u001b[0m         )\n\u001b[1;32m    212\u001b[0m     ):\n\u001b[0;32m--> 213\u001b[0m         \u001b[39mreturn\u001b[39;00m func(\u001b[39m*\u001b[39;49margs, \u001b[39m*\u001b[39;49m\u001b[39m*\u001b[39;49mkwargs)\n\u001b[1;32m    214\u001b[0m \u001b[39mexcept\u001b[39;00m InvalidParameterError \u001b[39mas\u001b[39;00m e:\n\u001b[1;32m    215\u001b[0m     \u001b[39m# When the function is just a wrapper around an estimator, we allow\u001b[39;00m\n\u001b[1;32m    216\u001b[0m     \u001b[39m# the function to delegate validation to the estimator, but we replace\u001b[39;00m\n\u001b[1;32m    217\u001b[0m     \u001b[39m# the name of the estimator by the name of the function in the error\u001b[39;00m\n\u001b[1;32m    218\u001b[0m     \u001b[39m# message to avoid confusion.\u001b[39;00m\n\u001b[1;32m    219\u001b[0m     msg \u001b[39m=\u001b[39m re\u001b[39m.\u001b[39msub(\n\u001b[1;32m    220\u001b[0m         \u001b[39mr\u001b[39m\u001b[39m\"\u001b[39m\u001b[39mparameter of \u001b[39m\u001b[39m\\\u001b[39m\u001b[39mw+ must be\u001b[39m\u001b[39m\"\u001b[39m,\n\u001b[1;32m    221\u001b[0m         \u001b[39mf\u001b[39m\u001b[39m\"\u001b[39m\u001b[39mparameter of \u001b[39m\u001b[39m{\u001b[39;00mfunc\u001b[39m.\u001b[39m\u001b[39m__qualname__\u001b[39m\u001b[39m}\u001b[39;00m\u001b[39m must be\u001b[39m\u001b[39m\"\u001b[39m,\n\u001b[1;32m    222\u001b[0m         \u001b[39mstr\u001b[39m(e),\n\u001b[1;32m    223\u001b[0m     )\n",
      "File \u001b[0;32m~/.pyenv/versions/3.11.3/lib/python3.11/site-packages/sklearn/metrics/_classification.py:213\u001b[0m, in \u001b[0;36maccuracy_score\u001b[0;34m(y_true, y_pred, normalize, sample_weight)\u001b[0m\n\u001b[1;32m    147\u001b[0m \u001b[39m\u001b[39m\u001b[39m\"\"\"Accuracy classification score.\u001b[39;00m\n\u001b[1;32m    148\u001b[0m \n\u001b[1;32m    149\u001b[0m \u001b[39mIn multilabel classification, this function computes subset accuracy:\u001b[39;00m\n\u001b[0;32m   (...)\u001b[0m\n\u001b[1;32m    209\u001b[0m \u001b[39m0.5\u001b[39;00m\n\u001b[1;32m    210\u001b[0m \u001b[39m\"\"\"\u001b[39;00m\n\u001b[1;32m    212\u001b[0m \u001b[39m# Compute accuracy for each possible representation\u001b[39;00m\n\u001b[0;32m--> 213\u001b[0m y_type, y_true, y_pred \u001b[39m=\u001b[39m _check_targets(y_true, y_pred)\n\u001b[1;32m    214\u001b[0m check_consistent_length(y_true, y_pred, sample_weight)\n\u001b[1;32m    215\u001b[0m \u001b[39mif\u001b[39;00m y_type\u001b[39m.\u001b[39mstartswith(\u001b[39m\"\u001b[39m\u001b[39mmultilabel\u001b[39m\u001b[39m\"\u001b[39m):\n",
      "File \u001b[0;32m~/.pyenv/versions/3.11.3/lib/python3.11/site-packages/sklearn/metrics/_classification.py:85\u001b[0m, in \u001b[0;36m_check_targets\u001b[0;34m(y_true, y_pred)\u001b[0m\n\u001b[1;32m     58\u001b[0m \u001b[39mdef\u001b[39;00m \u001b[39m_check_targets\u001b[39m(y_true, y_pred):\n\u001b[1;32m     59\u001b[0m \u001b[39m    \u001b[39m\u001b[39m\"\"\"Check that y_true and y_pred belong to the same classification task.\u001b[39;00m\n\u001b[1;32m     60\u001b[0m \n\u001b[1;32m     61\u001b[0m \u001b[39m    This converts multiclass or binary types to a common shape, and raises a\u001b[39;00m\n\u001b[0;32m   (...)\u001b[0m\n\u001b[1;32m     83\u001b[0m \u001b[39m    y_pred : array or indicator matrix\u001b[39;00m\n\u001b[1;32m     84\u001b[0m \u001b[39m    \"\"\"\u001b[39;00m\n\u001b[0;32m---> 85\u001b[0m     check_consistent_length(y_true, y_pred)\n\u001b[1;32m     86\u001b[0m     type_true \u001b[39m=\u001b[39m type_of_target(y_true, input_name\u001b[39m=\u001b[39m\u001b[39m\"\u001b[39m\u001b[39my_true\u001b[39m\u001b[39m\"\u001b[39m)\n\u001b[1;32m     87\u001b[0m     type_pred \u001b[39m=\u001b[39m type_of_target(y_pred, input_name\u001b[39m=\u001b[39m\u001b[39m\"\u001b[39m\u001b[39my_pred\u001b[39m\u001b[39m\"\u001b[39m)\n",
      "File \u001b[0;32m~/.pyenv/versions/3.11.3/lib/python3.11/site-packages/sklearn/utils/validation.py:457\u001b[0m, in \u001b[0;36mcheck_consistent_length\u001b[0;34m(*arrays)\u001b[0m\n\u001b[1;32m    455\u001b[0m uniques \u001b[39m=\u001b[39m np\u001b[39m.\u001b[39munique(lengths)\n\u001b[1;32m    456\u001b[0m \u001b[39mif\u001b[39;00m \u001b[39mlen\u001b[39m(uniques) \u001b[39m>\u001b[39m \u001b[39m1\u001b[39m:\n\u001b[0;32m--> 457\u001b[0m     \u001b[39mraise\u001b[39;00m \u001b[39mValueError\u001b[39;00m(\n\u001b[1;32m    458\u001b[0m         \u001b[39m\"\u001b[39m\u001b[39mFound input variables with inconsistent numbers of samples: \u001b[39m\u001b[39m%r\u001b[39;00m\u001b[39m\"\u001b[39m\n\u001b[1;32m    459\u001b[0m         \u001b[39m%\u001b[39m [\u001b[39mint\u001b[39m(l) \u001b[39mfor\u001b[39;00m l \u001b[39min\u001b[39;00m lengths]\n\u001b[1;32m    460\u001b[0m     )\n",
      "\u001b[0;31mValueError\u001b[0m: Found input variables with inconsistent numbers of samples: [29061, 22535]"
     ]
    }
   ],
   "source": [
    "# Evaluate the model\n",
    "from sklearn.metrics import accuracy_score\n",
    "accuracy = accuracy_score(y_pred,y_val)\n",
    "print(\"Accuracy:\", accuracy)"
   ]
  },
  {
   "cell_type": "code",
   "execution_count": 26,
   "metadata": {},
   "outputs": [],
   "source": [
    "dfs = pd.DataFrame(y_val)\n"
   ]
  },
  {
   "cell_type": "code",
   "execution_count": 14,
   "metadata": {},
   "outputs": [],
   "source": [
    "dfs.to_excel(\"output.xlsx\")"
   ]
  },
  {
   "cell_type": "code",
   "execution_count": 15,
   "metadata": {},
   "outputs": [
    {
     "ename": "AttributeError",
     "evalue": "'numpy.ndarray' object has no attribute 'drop'",
     "output_type": "error",
     "traceback": [
      "\u001b[0;31m---------------------------------------------------------------------------\u001b[0m",
      "\u001b[0;31mAttributeError\u001b[0m                            Traceback (most recent call last)",
      "Cell \u001b[0;32mIn[15], line 1\u001b[0m\n\u001b[0;32m----> 1\u001b[0m y_pred \u001b[38;5;241m=\u001b[39m \u001b[43my_pred\u001b[49m\u001b[38;5;241;43m.\u001b[39;49m\u001b[43mdrop\u001b[49m(data\u001b[38;5;241m.\u001b[39mindex[:\u001b[38;5;241m9061\u001b[39m])\n",
      "\u001b[0;31mAttributeError\u001b[0m: 'numpy.ndarray' object has no attribute 'drop'"
     ]
    }
   ],
   "source": [
    "y_pred = y_pred.drop(data.index[:9061])"
   ]
  },
  {
   "cell_type": "code",
   "execution_count": 35,
   "metadata": {},
   "outputs": [],
   "source": [
    "dfs = pd.DataFrame(y_pred)"
   ]
  },
  {
   "cell_type": "code",
   "execution_count": 36,
   "metadata": {},
   "outputs": [],
   "source": [
    "dfs = dfs.drop(dfs.index[:9061])"
   ]
  },
  {
   "cell_type": "code",
   "execution_count": 37,
   "metadata": {},
   "outputs": [
    {
     "data": {
      "text/plain": [
       "(20000, 1)"
      ]
     },
     "execution_count": 37,
     "metadata": {},
     "output_type": "execute_result"
    }
   ],
   "source": [
    "dfs = dfs.drop(dfs.index[:9061])"
   ]
  },
  {
   "cell_type": "code",
   "execution_count": 38,
   "metadata": {},
   "outputs": [],
   "source": [
    "dfx = pd.DataFrame(y_val)"
   ]
  },
  {
   "cell_type": "code",
   "execution_count": 39,
   "metadata": {},
   "outputs": [],
   "source": [
    "dfx = dfx.drop(dfx.index[:2535])"
   ]
  },
  {
   "cell_type": "code",
   "execution_count": 40,
   "metadata": {},
   "outputs": [
    {
     "data": {
      "text/plain": [
       "(20000, 1)"
      ]
     },
     "execution_count": 40,
     "metadata": {},
     "output_type": "execute_result"
    }
   ],
   "source": [
    "dfx.shape"
   ]
  },
  {
   "cell_type": "code",
   "execution_count": 41,
   "metadata": {},
   "outputs": [],
   "source": [
    "y_pred2 = dfs.values"
   ]
  },
  {
   "cell_type": "code",
   "execution_count": 42,
   "metadata": {},
   "outputs": [],
   "source": [
    "y_val2 = dfx.values"
   ]
  },
  {
   "cell_type": "code",
   "execution_count": 43,
   "metadata": {},
   "outputs": [
    {
     "name": "stdout",
     "output_type": "stream",
     "text": [
      "Accuracy: 0.7422\n"
     ]
    }
   ],
   "source": [
    "\n",
    "from sklearn.metrics import accuracy_score\n",
    "accuracy = accuracy_score(y_pred2,y_val2)\n",
    "print(\"Accuracy:\", accuracy)"
   ]
  },
  {
   "cell_type": "code",
   "execution_count": null,
   "metadata": {},
   "outputs": [],
   "source": []
  }
 ],
 "metadata": {
  "kernelspec": {
   "display_name": "Python 3.11.3 64-bit ('3.11.3')",
   "language": "python",
   "name": "python3"
  },
  "language_info": {
   "codemirror_mode": {
    "name": "ipython",
    "version": 3
   },
   "file_extension": ".py",
   "mimetype": "text/x-python",
   "name": "python",
   "nbconvert_exporter": "python",
   "pygments_lexer": "ipython3",
   "version": "3.11.3"
  },
  "orig_nbformat": 4,
  "vscode": {
   "interpreter": {
    "hash": "6642255c2cef86f6396fb1db64d1f2f9fc9d650fd2646d067f2fefee5fe9fef9"
   }
  }
 },
 "nbformat": 4,
 "nbformat_minor": 2
}
