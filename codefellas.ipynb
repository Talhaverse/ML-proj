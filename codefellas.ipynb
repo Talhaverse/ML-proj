{
 "cells": [
  {
   "cell_type": "code",
   "execution_count": 5,
   "metadata": {},
   "outputs": [],
   "source": [
    "import pandas as pd\n",
    "import numpy as np\n",
    "import matplotlib.pyplot as plt\n",
    "import seaborn as sns\n",
    "from sklearn import datasets"
   ]
  },
  {
   "cell_type": "code",
   "execution_count": 6,
   "metadata": {},
   "outputs": [],
   "source": [
    "# import data file csv\n",
    "\n",
    "data = pd.read_csv('test_data.csv')\n"
   ]
  },
  {
   "cell_type": "code",
   "execution_count": 7,
   "metadata": {},
   "outputs": [
    {
     "data": {
      "text/html": [
       "<div>\n",
       "<style scoped>\n",
       "    .dataframe tbody tr th:only-of-type {\n",
       "        vertical-align: middle;\n",
       "    }\n",
       "\n",
       "    .dataframe tbody tr th {\n",
       "        vertical-align: top;\n",
       "    }\n",
       "\n",
       "    .dataframe thead th {\n",
       "        text-align: right;\n",
       "    }\n",
       "</style>\n",
       "<table border=\"1\" class=\"dataframe\">\n",
       "  <thead>\n",
       "    <tr style=\"text-align: right;\">\n",
       "      <th></th>\n",
       "      <th>Investor_ID</th>\n",
       "      <th>Age</th>\n",
       "      <th>Annual_Income</th>\n",
       "      <th>Investment_Amount</th>\n",
       "      <th>Risk_Tolerance_Score</th>\n",
       "      <th>Months_of_Investing_Experience</th>\n",
       "      <th>Number_of_Active_Investments</th>\n",
       "      <th>Potential_Return_Rate</th>\n",
       "      <th>Investment_Duration</th>\n",
       "      <th>Investment_to_Income_Ratio</th>\n",
       "      <th>Education</th>\n",
       "      <th>Employment_Status</th>\n",
       "      <th>Marital_Status</th>\n",
       "      <th>Owns_Property</th>\n",
       "      <th>Has_Dependents</th>\n",
       "      <th>Investment_Sector</th>\n",
       "      <th>Has_Investment_Advisor</th>\n",
       "    </tr>\n",
       "  </thead>\n",
       "  <tbody>\n",
       "    <tr>\n",
       "      <th>0</th>\n",
       "      <td>000UE5J2ZA</td>\n",
       "      <td>NaN</td>\n",
       "      <td>73311.0</td>\n",
       "      <td>9698.0</td>\n",
       "      <td>669</td>\n",
       "      <td>71</td>\n",
       "      <td>4.0</td>\n",
       "      <td>9.13</td>\n",
       "      <td>24</td>\n",
       "      <td>0.30</td>\n",
       "      <td>Bachelor's</td>\n",
       "      <td>Self-employed</td>\n",
       "      <td>Single</td>\n",
       "      <td>No</td>\n",
       "      <td>No</td>\n",
       "      <td>Other</td>\n",
       "      <td>True</td>\n",
       "    </tr>\n",
       "    <tr>\n",
       "      <th>1</th>\n",
       "      <td>001P95JSOO</td>\n",
       "      <td>NaN</td>\n",
       "      <td>123781.0</td>\n",
       "      <td>165751.0</td>\n",
       "      <td>739</td>\n",
       "      <td>82</td>\n",
       "      <td>2.0</td>\n",
       "      <td>14.74</td>\n",
       "      <td>12</td>\n",
       "      <td>0.71</td>\n",
       "      <td>PhD</td>\n",
       "      <td>Unemployed</td>\n",
       "      <td>Single</td>\n",
       "      <td>ye</td>\n",
       "      <td>YES</td>\n",
       "      <td>Education</td>\n",
       "      <td>True</td>\n",
       "    </tr>\n",
       "    <tr>\n",
       "      <th>2</th>\n",
       "      <td>0021TWGYU1</td>\n",
       "      <td>114.0</td>\n",
       "      <td>49133.0</td>\n",
       "      <td>NaN</td>\n",
       "      <td>442</td>\n",
       "      <td>2</td>\n",
       "      <td>3.0</td>\n",
       "      <td>4.18</td>\n",
       "      <td>48</td>\n",
       "      <td>0.18</td>\n",
       "      <td>PhD</td>\n",
       "      <td>Full-time</td>\n",
       "      <td>Married</td>\n",
       "      <td>Yes</td>\n",
       "      <td>Ye</td>\n",
       "      <td>Business</td>\n",
       "      <td>False</td>\n",
       "    </tr>\n",
       "    <tr>\n",
       "      <th>3</th>\n",
       "      <td>004CW0LPZP</td>\n",
       "      <td>37.0</td>\n",
       "      <td>109759.0</td>\n",
       "      <td>207283.0</td>\n",
       "      <td>1008</td>\n",
       "      <td>114</td>\n",
       "      <td>1.0</td>\n",
       "      <td>17.14</td>\n",
       "      <td>12</td>\n",
       "      <td>0.86</td>\n",
       "      <td>Bachelor's</td>\n",
       "      <td>Self-employed</td>\n",
       "      <td>Sgl</td>\n",
       "      <td>No</td>\n",
       "      <td>Yes</td>\n",
       "      <td>Business</td>\n",
       "      <td>False</td>\n",
       "    </tr>\n",
       "    <tr>\n",
       "      <th>4</th>\n",
       "      <td>006ZRFCQ2Q</td>\n",
       "      <td>41.0</td>\n",
       "      <td>57751.0</td>\n",
       "      <td>NaN</td>\n",
       "      <td>836</td>\n",
       "      <td>97</td>\n",
       "      <td>2.0</td>\n",
       "      <td>7.04</td>\n",
       "      <td>60</td>\n",
       "      <td>0.32</td>\n",
       "      <td>High School</td>\n",
       "      <td>Self-employed</td>\n",
       "      <td>Divorced</td>\n",
       "      <td>YES</td>\n",
       "      <td>NO</td>\n",
       "      <td>Education</td>\n",
       "      <td>False</td>\n",
       "    </tr>\n",
       "  </tbody>\n",
       "</table>\n",
       "</div>"
      ],
      "text/plain": [
       "  Investor_ID    Age  Annual_Income  Investment_Amount  Risk_Tolerance_Score  \\\n",
       "0  000UE5J2ZA    NaN        73311.0             9698.0                   669   \n",
       "1  001P95JSOO    NaN       123781.0           165751.0                   739   \n",
       "2  0021TWGYU1  114.0        49133.0                NaN                   442   \n",
       "3  004CW0LPZP   37.0       109759.0           207283.0                  1008   \n",
       "4  006ZRFCQ2Q   41.0        57751.0                NaN                   836   \n",
       "\n",
       "   Months_of_Investing_Experience  Number_of_Active_Investments  \\\n",
       "0                              71                           4.0   \n",
       "1                              82                           2.0   \n",
       "2                               2                           3.0   \n",
       "3                             114                           1.0   \n",
       "4                              97                           2.0   \n",
       "\n",
       "   Potential_Return_Rate  Investment_Duration  Investment_to_Income_Ratio  \\\n",
       "0                   9.13                   24                        0.30   \n",
       "1                  14.74                   12                        0.71   \n",
       "2                   4.18                   48                        0.18   \n",
       "3                  17.14                   12                        0.86   \n",
       "4                   7.04                   60                        0.32   \n",
       "\n",
       "     Education Employment_Status Marital_Status Owns_Property Has_Dependents  \\\n",
       "0   Bachelor's     Self-employed         Single            No             No   \n",
       "1          PhD        Unemployed         Single            ye            YES   \n",
       "2          PhD         Full-time        Married           Yes             Ye   \n",
       "3   Bachelor's     Self-employed            Sgl            No            Yes   \n",
       "4  High School     Self-employed       Divorced           YES             NO   \n",
       "\n",
       "  Investment_Sector Has_Investment_Advisor  \n",
       "0             Other                   True  \n",
       "1         Education                   True  \n",
       "2          Business                  False  \n",
       "3          Business                  False  \n",
       "4         Education                  False  "
      ]
     },
     "execution_count": 7,
     "metadata": {},
     "output_type": "execute_result"
    }
   ],
   "source": [
    "# create data frame\n",
    "df = pd.DataFrame(data)\n",
    "df.head()"
   ]
  },
  {
   "cell_type": "code",
   "execution_count": 8,
   "metadata": {},
   "outputs": [
    {
     "name": "stdout",
     "output_type": "stream",
     "text": [
      "(30000, 17)\n"
     ]
    }
   ],
   "source": [
    "# check shape\n",
    "print(df.shape)"
   ]
  },
  {
   "cell_type": "code",
   "execution_count": 9,
   "metadata": {},
   "outputs": [
    {
     "data": {
      "text/plain": [
       "Investor_ID                          0\n",
       "Age                               4302\n",
       "Annual_Income                     2908\n",
       "Investment_Amount                 2394\n",
       "Risk_Tolerance_Score                 0\n",
       "Months_of_Investing_Experience       0\n",
       "Number_of_Active_Investments       594\n",
       "Potential_Return_Rate             1523\n",
       "Investment_Duration                  0\n",
       "Investment_to_Income_Ratio           0\n",
       "Education                            0\n",
       "Employment_Status                    0\n",
       "Marital_Status                    5681\n",
       "Owns_Property                        0\n",
       "Has_Dependents                       0\n",
       "Investment_Sector                    0\n",
       "Has_Investment_Advisor             480\n",
       "dtype: int64"
      ]
     },
     "execution_count": 9,
     "metadata": {},
     "output_type": "execute_result"
    }
   ],
   "source": [
    "# check for missing values\n",
    "df.isnull().sum()\n"
   ]
  },
  {
   "cell_type": "code",
   "execution_count": 10,
   "metadata": {},
   "outputs": [
    {
     "name": "stdout",
     "output_type": "stream",
     "text": [
      "<class 'pandas.core.frame.DataFrame'>\n",
      "RangeIndex: 30000 entries, 0 to 29999\n",
      "Data columns (total 17 columns):\n",
      " #   Column                          Non-Null Count  Dtype  \n",
      "---  ------                          --------------  -----  \n",
      " 0   Investor_ID                     30000 non-null  object \n",
      " 1   Age                             25698 non-null  float64\n",
      " 2   Annual_Income                   27092 non-null  float64\n",
      " 3   Investment_Amount               27606 non-null  float64\n",
      " 4   Risk_Tolerance_Score            30000 non-null  int64  \n",
      " 5   Months_of_Investing_Experience  30000 non-null  int64  \n",
      " 6   Number_of_Active_Investments    29406 non-null  float64\n",
      " 7   Potential_Return_Rate           28477 non-null  float64\n",
      " 8   Investment_Duration             30000 non-null  int64  \n",
      " 9   Investment_to_Income_Ratio      30000 non-null  float64\n",
      " 10  Education                       30000 non-null  object \n",
      " 11  Employment_Status               30000 non-null  object \n",
      " 12  Marital_Status                  24319 non-null  object \n",
      " 13  Owns_Property                   30000 non-null  object \n",
      " 14  Has_Dependents                  30000 non-null  object \n",
      " 15  Investment_Sector               30000 non-null  object \n",
      " 16  Has_Investment_Advisor          29520 non-null  object \n",
      "dtypes: float64(6), int64(3), object(8)\n",
      "memory usage: 3.9+ MB\n"
     ]
    }
   ],
   "source": [
    "df.info()"
   ]
  },
  {
   "cell_type": "code",
   "execution_count": 11,
   "metadata": {},
   "outputs": [
    {
     "data": {
      "text/plain": [
       "0"
      ]
     },
     "execution_count": 11,
     "metadata": {},
     "output_type": "execute_result"
    }
   ],
   "source": [
    "# find duplications\n",
    "df.duplicated().sum()"
   ]
  },
  {
   "cell_type": "code",
   "execution_count": 12,
   "metadata": {},
   "outputs": [
    {
     "name": "stderr",
     "output_type": "stream",
     "text": [
      "/var/folders/t_/n3qjc33925g3rcxc6xw4vs540000gn/T/ipykernel_87584/2216366767.py:2: FutureWarning: A value is trying to be set on a copy of a DataFrame or Series through chained assignment using an inplace method.\n",
      "The behavior will change in pandas 3.0. This inplace method will never work because the intermediate object on which we are setting values always behaves as a copy.\n",
      "\n",
      "For example, when doing 'df[col].method(value, inplace=True)', try using 'df.method({col: value}, inplace=True)' or df[col] = df[col].method(value) instead, to perform the operation inplace on the original object.\n",
      "\n",
      "\n",
      "  df['Age'].fillna(df['Age'].mean(), inplace=True)\n"
     ]
    }
   ],
   "source": [
    "# fill the missing values by taking average for already int or float data type values       \n",
    "df['Age'].fillna(df['Age'].mean(), inplace=True)"
   ]
  },
  {
   "cell_type": "code",
   "execution_count": 13,
   "metadata": {},
   "outputs": [
    {
     "name": "stderr",
     "output_type": "stream",
     "text": [
      "/var/folders/t_/n3qjc33925g3rcxc6xw4vs540000gn/T/ipykernel_87584/798308581.py:1: FutureWarning: A value is trying to be set on a copy of a DataFrame or Series through chained assignment using an inplace method.\n",
      "The behavior will change in pandas 3.0. This inplace method will never work because the intermediate object on which we are setting values always behaves as a copy.\n",
      "\n",
      "For example, when doing 'df[col].method(value, inplace=True)', try using 'df.method({col: value}, inplace=True)' or df[col] = df[col].method(value) instead, to perform the operation inplace on the original object.\n",
      "\n",
      "\n",
      "  df['Annual_Income'].fillna(df['Annual_Income'].mean(), inplace=True)\n"
     ]
    }
   ],
   "source": [
    "df['Annual_Income'].fillna(df['Annual_Income'].mean(), inplace=True)"
   ]
  },
  {
   "cell_type": "code",
   "execution_count": 14,
   "metadata": {},
   "outputs": [
    {
     "name": "stderr",
     "output_type": "stream",
     "text": [
      "/var/folders/t_/n3qjc33925g3rcxc6xw4vs540000gn/T/ipykernel_87584/1613402799.py:1: FutureWarning: A value is trying to be set on a copy of a DataFrame or Series through chained assignment using an inplace method.\n",
      "The behavior will change in pandas 3.0. This inplace method will never work because the intermediate object on which we are setting values always behaves as a copy.\n",
      "\n",
      "For example, when doing 'df[col].method(value, inplace=True)', try using 'df.method({col: value}, inplace=True)' or df[col] = df[col].method(value) instead, to perform the operation inplace on the original object.\n",
      "\n",
      "\n",
      "  df['Investment_Amount'].fillna(df['Investment_Amount'].mean(), inplace=True)\n"
     ]
    }
   ],
   "source": [
    "df['Investment_Amount'].fillna(df['Investment_Amount'].mean(), inplace=True)"
   ]
  },
  {
   "cell_type": "code",
   "execution_count": 15,
   "metadata": {},
   "outputs": [
    {
     "name": "stderr",
     "output_type": "stream",
     "text": [
      "/var/folders/t_/n3qjc33925g3rcxc6xw4vs540000gn/T/ipykernel_87584/1107833271.py:1: FutureWarning: A value is trying to be set on a copy of a DataFrame or Series through chained assignment using an inplace method.\n",
      "The behavior will change in pandas 3.0. This inplace method will never work because the intermediate object on which we are setting values always behaves as a copy.\n",
      "\n",
      "For example, when doing 'df[col].method(value, inplace=True)', try using 'df.method({col: value}, inplace=True)' or df[col] = df[col].method(value) instead, to perform the operation inplace on the original object.\n",
      "\n",
      "\n",
      "  df['Risk_Tolerance_Score'].fillna(df['Risk_Tolerance_Score'].mean(), inplace=True)\n"
     ]
    }
   ],
   "source": [
    "df['Risk_Tolerance_Score'].fillna(df['Risk_Tolerance_Score'].mean(), inplace=True)"
   ]
  },
  {
   "cell_type": "code",
   "execution_count": 16,
   "metadata": {},
   "outputs": [
    {
     "name": "stderr",
     "output_type": "stream",
     "text": [
      "/var/folders/t_/n3qjc33925g3rcxc6xw4vs540000gn/T/ipykernel_87584/1083419656.py:1: FutureWarning: A value is trying to be set on a copy of a DataFrame or Series through chained assignment using an inplace method.\n",
      "The behavior will change in pandas 3.0. This inplace method will never work because the intermediate object on which we are setting values always behaves as a copy.\n",
      "\n",
      "For example, when doing 'df[col].method(value, inplace=True)', try using 'df.method({col: value}, inplace=True)' or df[col] = df[col].method(value) instead, to perform the operation inplace on the original object.\n",
      "\n",
      "\n",
      "  df['Months_of_Investing_Experience'].fillna(df['Months_of_Investing_Experience'].mean(), inplace=True)\n"
     ]
    }
   ],
   "source": [
    "df['Months_of_Investing_Experience'].fillna(df['Months_of_Investing_Experience'].mean(), inplace=True)"
   ]
  },
  {
   "cell_type": "code",
   "execution_count": 17,
   "metadata": {},
   "outputs": [
    {
     "name": "stderr",
     "output_type": "stream",
     "text": [
      "/var/folders/t_/n3qjc33925g3rcxc6xw4vs540000gn/T/ipykernel_87584/1517161467.py:1: FutureWarning: A value is trying to be set on a copy of a DataFrame or Series through chained assignment using an inplace method.\n",
      "The behavior will change in pandas 3.0. This inplace method will never work because the intermediate object on which we are setting values always behaves as a copy.\n",
      "\n",
      "For example, when doing 'df[col].method(value, inplace=True)', try using 'df.method({col: value}, inplace=True)' or df[col] = df[col].method(value) instead, to perform the operation inplace on the original object.\n",
      "\n",
      "\n",
      "  df['Number_of_Active_Investments'].fillna(df['Number_of_Active_Investments'].mean(), inplace=True)\n"
     ]
    }
   ],
   "source": [
    "df['Number_of_Active_Investments'].fillna(df['Number_of_Active_Investments'].mean(), inplace=True)\n"
   ]
  },
  {
   "cell_type": "code",
   "execution_count": 18,
   "metadata": {},
   "outputs": [
    {
     "name": "stderr",
     "output_type": "stream",
     "text": [
      "/var/folders/t_/n3qjc33925g3rcxc6xw4vs540000gn/T/ipykernel_87584/1065327386.py:1: FutureWarning: A value is trying to be set on a copy of a DataFrame or Series through chained assignment using an inplace method.\n",
      "The behavior will change in pandas 3.0. This inplace method will never work because the intermediate object on which we are setting values always behaves as a copy.\n",
      "\n",
      "For example, when doing 'df[col].method(value, inplace=True)', try using 'df.method({col: value}, inplace=True)' or df[col] = df[col].method(value) instead, to perform the operation inplace on the original object.\n",
      "\n",
      "\n",
      "  df['Potential_Return_Rate'].fillna(df['Potential_Return_Rate'].mean(), inplace=True)\n"
     ]
    }
   ],
   "source": [
    "df['Potential_Return_Rate'].fillna(df['Potential_Return_Rate'].mean(), inplace=True)"
   ]
  },
  {
   "cell_type": "code",
   "execution_count": 19,
   "metadata": {},
   "outputs": [
    {
     "name": "stderr",
     "output_type": "stream",
     "text": [
      "/var/folders/t_/n3qjc33925g3rcxc6xw4vs540000gn/T/ipykernel_87584/846951494.py:1: FutureWarning: A value is trying to be set on a copy of a DataFrame or Series through chained assignment using an inplace method.\n",
      "The behavior will change in pandas 3.0. This inplace method will never work because the intermediate object on which we are setting values always behaves as a copy.\n",
      "\n",
      "For example, when doing 'df[col].method(value, inplace=True)', try using 'df.method({col: value}, inplace=True)' or df[col] = df[col].method(value) instead, to perform the operation inplace on the original object.\n",
      "\n",
      "\n",
      "  df['Investment_Duration'].fillna(df['Investment_Duration'].mean(), inplace=True)\n"
     ]
    }
   ],
   "source": [
    "df['Investment_Duration'].fillna(df['Investment_Duration'].mean(), inplace=True)"
   ]
  },
  {
   "cell_type": "code",
   "execution_count": 20,
   "metadata": {},
   "outputs": [
    {
     "name": "stderr",
     "output_type": "stream",
     "text": [
      "/var/folders/t_/n3qjc33925g3rcxc6xw4vs540000gn/T/ipykernel_87584/845689134.py:1: FutureWarning: A value is trying to be set on a copy of a DataFrame or Series through chained assignment using an inplace method.\n",
      "The behavior will change in pandas 3.0. This inplace method will never work because the intermediate object on which we are setting values always behaves as a copy.\n",
      "\n",
      "For example, when doing 'df[col].method(value, inplace=True)', try using 'df.method({col: value}, inplace=True)' or df[col] = df[col].method(value) instead, to perform the operation inplace on the original object.\n",
      "\n",
      "\n",
      "  df['Investment_to_Income_Ratio'].fillna(df['Investment_to_Income_Ratio'].mean(), inplace=True)\n"
     ]
    }
   ],
   "source": [
    "df['Investment_to_Income_Ratio'].fillna(df['Investment_to_Income_Ratio'].mean(), inplace=True)"
   ]
  },
  {
   "cell_type": "code",
   "execution_count": 21,
   "metadata": {},
   "outputs": [
    {
     "data": {
      "text/plain": [
       "Education\n",
       "High School    7786\n",
       "Bachelor's     7618\n",
       "Master's       7317\n",
       "PhD            7279\n",
       "Name: count, dtype: int64"
      ]
     },
     "execution_count": 21,
     "metadata": {},
     "output_type": "execute_result"
    }
   ],
   "source": [
    "# list all the possible number of values in column\n",
    "df['Education'].value_counts()"
   ]
  },
  {
   "cell_type": "code",
   "execution_count": 22,
   "metadata": {},
   "outputs": [
    {
     "name": "stderr",
     "output_type": "stream",
     "text": [
      "/var/folders/t_/n3qjc33925g3rcxc6xw4vs540000gn/T/ipykernel_87584/1997476620.py:2: FutureWarning: Downcasting behavior in `replace` is deprecated and will be removed in a future version. To retain the old behavior, explicitly call `result.infer_objects(copy=False)`. To opt-in to the future behavior, set `pd.set_option('future.no_silent_downcasting', True)`\n",
      "  df['Education'] = df['Education'].replace({'High School': 1, \"Bachelor's\": 2, \"Master's\": 3, 'PhD': 4})\n"
     ]
    }
   ],
   "source": [
    "# replace the values with numbers in column \"Education i have 4 types of values\"\n",
    "df['Education'] = df['Education'].replace({'High School': 1, \"Bachelor's\": 2, \"Master's\": 3, 'PhD': 4})\n"
   ]
  },
  {
   "cell_type": "code",
   "execution_count": 23,
   "metadata": {},
   "outputs": [
    {
     "data": {
      "text/plain": [
       "0    2\n",
       "1    4\n",
       "2    4\n",
       "3    2\n",
       "4    1\n",
       "Name: Education, dtype: int64"
      ]
     },
     "execution_count": 23,
     "metadata": {},
     "output_type": "execute_result"
    }
   ],
   "source": [
    "df['Education'].head()"
   ]
  },
  {
   "cell_type": "code",
   "execution_count": 24,
   "metadata": {},
   "outputs": [
    {
     "data": {
      "text/plain": [
       "Employment_Status\n",
       "Unemployed       7193\n",
       "Part-time        7076\n",
       "Self-employed    6911\n",
       "Full-time        6682\n",
       "Part              571\n",
       "Self              504\n",
       "Unem              483\n",
       "Full              478\n",
       "Retired           102\n",
       "Name: count, dtype: int64"
      ]
     },
     "execution_count": 24,
     "metadata": {},
     "output_type": "execute_result"
    }
   ],
   "source": [
    "df['Employment_Status'].value_counts()"
   ]
  },
  {
   "cell_type": "code",
   "execution_count": 25,
   "metadata": {},
   "outputs": [
    {
     "name": "stderr",
     "output_type": "stream",
     "text": [
      "/var/folders/t_/n3qjc33925g3rcxc6xw4vs540000gn/T/ipykernel_87584/3767636759.py:1: FutureWarning: Downcasting behavior in `replace` is deprecated and will be removed in a future version. To retain the old behavior, explicitly call `result.infer_objects(copy=False)`. To opt-in to the future behavior, set `pd.set_option('future.no_silent_downcasting', True)`\n",
      "  df['Employment_Status'] = df['Employment_Status'].replace({'Part-time': 1, \"Full-time\": 2, \"Self-employed\": 3, 'Unemployed': 4, 'Self': 3, 'Part': 1, 'Full': 2, 'Unem': 4,'Retired': 5})\n"
     ]
    }
   ],
   "source": [
    "df['Employment_Status'] = df['Employment_Status'].replace({'Part-time': 1, \"Full-time\": 2, \"Self-employed\": 3, 'Unemployed': 4, 'Self': 3, 'Part': 1, 'Full': 2, 'Unem': 4,'Retired': 5})"
   ]
  },
  {
   "cell_type": "code",
   "execution_count": 26,
   "metadata": {},
   "outputs": [
    {
     "data": {
      "text/plain": [
       "0    3\n",
       "1    4\n",
       "2    2\n",
       "3    3\n",
       "4    3\n",
       "Name: Employment_Status, dtype: int64"
      ]
     },
     "execution_count": 26,
     "metadata": {},
     "output_type": "execute_result"
    }
   ],
   "source": [
    "df['Employment_Status'].head()"
   ]
  },
  {
   "cell_type": "code",
   "execution_count": 27,
   "metadata": {},
   "outputs": [
    {
     "data": {
      "text/plain": [
       "Employment_Status\n",
       "4    7676\n",
       "1    7647\n",
       "3    7415\n",
       "2    7160\n",
       "5     102\n",
       "Name: count, dtype: int64"
      ]
     },
     "execution_count": 27,
     "metadata": {},
     "output_type": "execute_result"
    }
   ],
   "source": [
    "df['Employment_Status'].value_counts()\n"
   ]
  },
  {
   "cell_type": "code",
   "execution_count": 28,
   "metadata": {},
   "outputs": [
    {
     "data": {
      "text/plain": [
       "Marital_Status\n",
       "Divorced    5225\n",
       "Married     5135\n",
       "Single      5111\n",
       "Sgl         2976\n",
       "Div         2957\n",
       "Marr        2915\n",
       "Name: count, dtype: int64"
      ]
     },
     "execution_count": 28,
     "metadata": {},
     "output_type": "execute_result"
    }
   ],
   "source": [
    "df['Marital_Status'].value_counts()"
   ]
  },
  {
   "cell_type": "code",
   "execution_count": 29,
   "metadata": {},
   "outputs": [
    {
     "name": "stderr",
     "output_type": "stream",
     "text": [
      "/var/folders/t_/n3qjc33925g3rcxc6xw4vs540000gn/T/ipykernel_87584/700308800.py:1: FutureWarning: Downcasting behavior in `replace` is deprecated and will be removed in a future version. To retain the old behavior, explicitly call `result.infer_objects(copy=False)`. To opt-in to the future behavior, set `pd.set_option('future.no_silent_downcasting', True)`\n",
      "  df['Marital_Status'] = df['Marital_Status'].replace({'Divorced': 1, \"Married\": 2, \"Single\": 3, 'Sgl': 3, 'Marr': 2, 'Div': 1})\n"
     ]
    }
   ],
   "source": [
    "df['Marital_Status'] = df['Marital_Status'].replace({'Divorced': 1, \"Married\": 2, \"Single\": 3, 'Sgl': 3, 'Marr': 2, 'Div': 1})"
   ]
  },
  {
   "cell_type": "code",
   "execution_count": 30,
   "metadata": {},
   "outputs": [
    {
     "data": {
      "text/plain": [
       "Marital_Status\n",
       "1.0    8182\n",
       "3.0    8087\n",
       "2.0    8050\n",
       "Name: count, dtype: int64"
      ]
     },
     "execution_count": 30,
     "metadata": {},
     "output_type": "execute_result"
    }
   ],
   "source": [
    "df['Marital_Status'].value_counts()"
   ]
  },
  {
   "cell_type": "code",
   "execution_count": 31,
   "metadata": {},
   "outputs": [
    {
     "data": {
      "text/plain": [
       "0    3.0\n",
       "1    3.0\n",
       "2    2.0\n",
       "3    3.0\n",
       "4    1.0\n",
       "Name: Marital_Status, dtype: float64"
      ]
     },
     "execution_count": 31,
     "metadata": {},
     "output_type": "execute_result"
    }
   ],
   "source": [
    "df['Marital_Status'].head()"
   ]
  },
  {
   "cell_type": "code",
   "execution_count": 32,
   "metadata": {},
   "outputs": [
    {
     "ename": "IntCastingNaNError",
     "evalue": "Cannot convert non-finite values (NA or inf) to integer",
     "output_type": "error",
     "traceback": [
      "\u001b[0;31m---------------------------------------------------------------------------\u001b[0m",
      "\u001b[0;31mIntCastingNaNError\u001b[0m                        Traceback (most recent call last)",
      "Cell \u001b[0;32mIn[32], line 2\u001b[0m\n\u001b[1;32m      1\u001b[0m \u001b[38;5;66;03m# change float to int if found NaN values remained \u001b[39;00m\n\u001b[0;32m----> 2\u001b[0m df[\u001b[38;5;124m'\u001b[39m\u001b[38;5;124mMarital_Status\u001b[39m\u001b[38;5;124m'\u001b[39m] \u001b[38;5;241m=\u001b[39m \u001b[43mdf\u001b[49m\u001b[43m[\u001b[49m\u001b[38;5;124;43m'\u001b[39;49m\u001b[38;5;124;43mMarital_Status\u001b[39;49m\u001b[38;5;124;43m'\u001b[39;49m\u001b[43m]\u001b[49m\u001b[38;5;241;43m.\u001b[39;49m\u001b[43mastype\u001b[49m\u001b[43m(\u001b[49m\u001b[38;5;28;43mint\u001b[39;49m\u001b[43m)\u001b[49m\n",
      "File \u001b[0;32m~/.pyenv/versions/3.11.3/lib/python3.11/site-packages/pandas/core/generic.py:6643\u001b[0m, in \u001b[0;36mNDFrame.astype\u001b[0;34m(self, dtype, copy, errors)\u001b[0m\n\u001b[1;32m   6637\u001b[0m     results \u001b[39m=\u001b[39m [\n\u001b[1;32m   6638\u001b[0m         ser\u001b[39m.\u001b[39mastype(dtype, copy\u001b[39m=\u001b[39mcopy, errors\u001b[39m=\u001b[39merrors) \u001b[39mfor\u001b[39;00m _, ser \u001b[39min\u001b[39;00m \u001b[39mself\u001b[39m\u001b[39m.\u001b[39mitems()\n\u001b[1;32m   6639\u001b[0m     ]\n\u001b[1;32m   6641\u001b[0m \u001b[39melse\u001b[39;00m:\n\u001b[1;32m   6642\u001b[0m     \u001b[39m# else, only a single dtype is given\u001b[39;00m\n\u001b[0;32m-> 6643\u001b[0m     new_data \u001b[39m=\u001b[39m \u001b[39mself\u001b[39;49m\u001b[39m.\u001b[39;49m_mgr\u001b[39m.\u001b[39;49mastype(dtype\u001b[39m=\u001b[39;49mdtype, copy\u001b[39m=\u001b[39;49mcopy, errors\u001b[39m=\u001b[39;49merrors)\n\u001b[1;32m   6644\u001b[0m     res \u001b[39m=\u001b[39m \u001b[39mself\u001b[39m\u001b[39m.\u001b[39m_constructor_from_mgr(new_data, axes\u001b[39m=\u001b[39mnew_data\u001b[39m.\u001b[39maxes)\n\u001b[1;32m   6645\u001b[0m     \u001b[39mreturn\u001b[39;00m res\u001b[39m.\u001b[39m__finalize__(\u001b[39mself\u001b[39m, method\u001b[39m=\u001b[39m\u001b[39m\"\u001b[39m\u001b[39mastype\u001b[39m\u001b[39m\"\u001b[39m)\n",
      "File \u001b[0;32m~/.pyenv/versions/3.11.3/lib/python3.11/site-packages/pandas/core/internals/managers.py:430\u001b[0m, in \u001b[0;36mBaseBlockManager.astype\u001b[0;34m(self, dtype, copy, errors)\u001b[0m\n\u001b[1;32m    427\u001b[0m \u001b[39melif\u001b[39;00m using_copy_on_write():\n\u001b[1;32m    428\u001b[0m     copy \u001b[39m=\u001b[39m \u001b[39mFalse\u001b[39;00m\n\u001b[0;32m--> 430\u001b[0m \u001b[39mreturn\u001b[39;00m \u001b[39mself\u001b[39;49m\u001b[39m.\u001b[39;49mapply(\n\u001b[1;32m    431\u001b[0m     \u001b[39m\"\u001b[39;49m\u001b[39mastype\u001b[39;49m\u001b[39m\"\u001b[39;49m,\n\u001b[1;32m    432\u001b[0m     dtype\u001b[39m=\u001b[39;49mdtype,\n\u001b[1;32m    433\u001b[0m     copy\u001b[39m=\u001b[39;49mcopy,\n\u001b[1;32m    434\u001b[0m     errors\u001b[39m=\u001b[39;49merrors,\n\u001b[1;32m    435\u001b[0m     using_cow\u001b[39m=\u001b[39;49musing_copy_on_write(),\n\u001b[1;32m    436\u001b[0m )\n",
      "File \u001b[0;32m~/.pyenv/versions/3.11.3/lib/python3.11/site-packages/pandas/core/internals/managers.py:363\u001b[0m, in \u001b[0;36mBaseBlockManager.apply\u001b[0;34m(self, f, align_keys, **kwargs)\u001b[0m\n\u001b[1;32m    361\u001b[0m         applied \u001b[39m=\u001b[39m b\u001b[39m.\u001b[39mapply(f, \u001b[39m*\u001b[39m\u001b[39m*\u001b[39mkwargs)\n\u001b[1;32m    362\u001b[0m     \u001b[39melse\u001b[39;00m:\n\u001b[0;32m--> 363\u001b[0m         applied \u001b[39m=\u001b[39m \u001b[39mgetattr\u001b[39;49m(b, f)(\u001b[39m*\u001b[39;49m\u001b[39m*\u001b[39;49mkwargs)\n\u001b[1;32m    364\u001b[0m     result_blocks \u001b[39m=\u001b[39m extend_blocks(applied, result_blocks)\n\u001b[1;32m    366\u001b[0m out \u001b[39m=\u001b[39m \u001b[39mtype\u001b[39m(\u001b[39mself\u001b[39m)\u001b[39m.\u001b[39mfrom_blocks(result_blocks, \u001b[39mself\u001b[39m\u001b[39m.\u001b[39maxes)\n",
      "File \u001b[0;32m~/.pyenv/versions/3.11.3/lib/python3.11/site-packages/pandas/core/internals/blocks.py:758\u001b[0m, in \u001b[0;36mBlock.astype\u001b[0;34m(self, dtype, copy, errors, using_cow, squeeze)\u001b[0m\n\u001b[1;32m    755\u001b[0m         \u001b[39mraise\u001b[39;00m \u001b[39mValueError\u001b[39;00m(\u001b[39m\"\u001b[39m\u001b[39mCan not squeeze with more than one column.\u001b[39m\u001b[39m\"\u001b[39m)\n\u001b[1;32m    756\u001b[0m     values \u001b[39m=\u001b[39m values[\u001b[39m0\u001b[39m, :]  \u001b[39m# type: ignore[call-overload]\u001b[39;00m\n\u001b[0;32m--> 758\u001b[0m new_values \u001b[39m=\u001b[39m astype_array_safe(values, dtype, copy\u001b[39m=\u001b[39;49mcopy, errors\u001b[39m=\u001b[39;49merrors)\n\u001b[1;32m    760\u001b[0m new_values \u001b[39m=\u001b[39m maybe_coerce_values(new_values)\n\u001b[1;32m    762\u001b[0m refs \u001b[39m=\u001b[39m \u001b[39mNone\u001b[39;00m\n",
      "File \u001b[0;32m~/.pyenv/versions/3.11.3/lib/python3.11/site-packages/pandas/core/dtypes/astype.py:237\u001b[0m, in \u001b[0;36mastype_array_safe\u001b[0;34m(values, dtype, copy, errors)\u001b[0m\n\u001b[1;32m    234\u001b[0m     dtype \u001b[39m=\u001b[39m dtype\u001b[39m.\u001b[39mnumpy_dtype\n\u001b[1;32m    236\u001b[0m \u001b[39mtry\u001b[39;00m:\n\u001b[0;32m--> 237\u001b[0m     new_values \u001b[39m=\u001b[39m astype_array(values, dtype, copy\u001b[39m=\u001b[39;49mcopy)\n\u001b[1;32m    238\u001b[0m \u001b[39mexcept\u001b[39;00m (\u001b[39mValueError\u001b[39;00m, \u001b[39mTypeError\u001b[39;00m):\n\u001b[1;32m    239\u001b[0m     \u001b[39m# e.g. _astype_nansafe can fail on object-dtype of strings\u001b[39;00m\n\u001b[1;32m    240\u001b[0m     \u001b[39m#  trying to convert to float\u001b[39;00m\n\u001b[1;32m    241\u001b[0m     \u001b[39mif\u001b[39;00m errors \u001b[39m==\u001b[39m \u001b[39m\"\u001b[39m\u001b[39mignore\u001b[39m\u001b[39m\"\u001b[39m:\n",
      "File \u001b[0;32m~/.pyenv/versions/3.11.3/lib/python3.11/site-packages/pandas/core/dtypes/astype.py:182\u001b[0m, in \u001b[0;36mastype_array\u001b[0;34m(values, dtype, copy)\u001b[0m\n\u001b[1;32m    179\u001b[0m     values \u001b[39m=\u001b[39m values\u001b[39m.\u001b[39mastype(dtype, copy\u001b[39m=\u001b[39mcopy)\n\u001b[1;32m    181\u001b[0m \u001b[39melse\u001b[39;00m:\n\u001b[0;32m--> 182\u001b[0m     values \u001b[39m=\u001b[39m _astype_nansafe(values, dtype, copy\u001b[39m=\u001b[39;49mcopy)\n\u001b[1;32m    184\u001b[0m \u001b[39m# in pandas we don't store numpy str dtypes, so convert to object\u001b[39;00m\n\u001b[1;32m    185\u001b[0m \u001b[39mif\u001b[39;00m \u001b[39misinstance\u001b[39m(dtype, np\u001b[39m.\u001b[39mdtype) \u001b[39mand\u001b[39;00m \u001b[39missubclass\u001b[39m(values\u001b[39m.\u001b[39mdtype\u001b[39m.\u001b[39mtype, \u001b[39mstr\u001b[39m):\n",
      "File \u001b[0;32m~/.pyenv/versions/3.11.3/lib/python3.11/site-packages/pandas/core/dtypes/astype.py:101\u001b[0m, in \u001b[0;36m_astype_nansafe\u001b[0;34m(arr, dtype, copy, skipna)\u001b[0m\n\u001b[1;32m     96\u001b[0m     \u001b[39mreturn\u001b[39;00m lib\u001b[39m.\u001b[39mensure_string_array(\n\u001b[1;32m     97\u001b[0m         arr, skipna\u001b[39m=\u001b[39mskipna, convert_na_value\u001b[39m=\u001b[39m\u001b[39mFalse\u001b[39;00m\n\u001b[1;32m     98\u001b[0m     )\u001b[39m.\u001b[39mreshape(shape)\n\u001b[1;32m    100\u001b[0m \u001b[39melif\u001b[39;00m np\u001b[39m.\u001b[39missubdtype(arr\u001b[39m.\u001b[39mdtype, np\u001b[39m.\u001b[39mfloating) \u001b[39mand\u001b[39;00m dtype\u001b[39m.\u001b[39mkind \u001b[39min\u001b[39;00m \u001b[39m\"\u001b[39m\u001b[39miu\u001b[39m\u001b[39m\"\u001b[39m:\n\u001b[0;32m--> 101\u001b[0m     \u001b[39mreturn\u001b[39;00m _astype_float_to_int_nansafe(arr, dtype, copy)\n\u001b[1;32m    103\u001b[0m \u001b[39melif\u001b[39;00m arr\u001b[39m.\u001b[39mdtype \u001b[39m==\u001b[39m \u001b[39mobject\u001b[39m:\n\u001b[1;32m    104\u001b[0m     \u001b[39m# if we have a datetime/timedelta array of objects\u001b[39;00m\n\u001b[1;32m    105\u001b[0m     \u001b[39m# then coerce to datetime64[ns] and use DatetimeArray.astype\u001b[39;00m\n\u001b[1;32m    107\u001b[0m     \u001b[39mif\u001b[39;00m lib\u001b[39m.\u001b[39mis_np_dtype(dtype, \u001b[39m\"\u001b[39m\u001b[39mM\u001b[39m\u001b[39m\"\u001b[39m):\n",
      "File \u001b[0;32m~/.pyenv/versions/3.11.3/lib/python3.11/site-packages/pandas/core/dtypes/astype.py:145\u001b[0m, in \u001b[0;36m_astype_float_to_int_nansafe\u001b[0;34m(values, dtype, copy)\u001b[0m\n\u001b[1;32m    141\u001b[0m \u001b[39m\u001b[39m\u001b[39m\"\"\"\u001b[39;00m\n\u001b[1;32m    142\u001b[0m \u001b[39mastype with a check preventing converting NaN to an meaningless integer value.\u001b[39;00m\n\u001b[1;32m    143\u001b[0m \u001b[39m\"\"\"\u001b[39;00m\n\u001b[1;32m    144\u001b[0m \u001b[39mif\u001b[39;00m \u001b[39mnot\u001b[39;00m np\u001b[39m.\u001b[39misfinite(values)\u001b[39m.\u001b[39mall():\n\u001b[0;32m--> 145\u001b[0m     \u001b[39mraise\u001b[39;00m IntCastingNaNError(\n\u001b[1;32m    146\u001b[0m         \u001b[39m\"\u001b[39m\u001b[39mCannot convert non-finite values (NA or inf) to integer\u001b[39m\u001b[39m\"\u001b[39m\n\u001b[1;32m    147\u001b[0m     )\n\u001b[1;32m    148\u001b[0m \u001b[39mif\u001b[39;00m dtype\u001b[39m.\u001b[39mkind \u001b[39m==\u001b[39m \u001b[39m\"\u001b[39m\u001b[39mu\u001b[39m\u001b[39m\"\u001b[39m:\n\u001b[1;32m    149\u001b[0m     \u001b[39m# GH#45151\u001b[39;00m\n\u001b[1;32m    150\u001b[0m     \u001b[39mif\u001b[39;00m \u001b[39mnot\u001b[39;00m (values \u001b[39m>\u001b[39m\u001b[39m=\u001b[39m \u001b[39m0\u001b[39m)\u001b[39m.\u001b[39mall():\n",
      "\u001b[0;31mIntCastingNaNError\u001b[0m: Cannot convert non-finite values (NA or inf) to integer"
     ]
    }
   ],
   "source": [
    "# change float to int if found NaN values remained \n",
    "df['Marital_Status'] = df['Marital_Status'].astype(int)"
   ]
  },
  {
   "cell_type": "code",
   "execution_count": 33,
   "metadata": {},
   "outputs": [
    {
     "data": {
      "text/plain": [
       "Owns_Property\n",
       "No         12792\n",
       "Yes        11242\n",
       "Ye          1190\n",
       "NO          1142\n",
       "no          1120\n",
       "YES          992\n",
       "yes          926\n",
       "Maybe        200\n",
       "Unknown      191\n",
       "ye           103\n",
       "YE           102\n",
       "Name: count, dtype: int64"
      ]
     },
     "execution_count": 33,
     "metadata": {},
     "output_type": "execute_result"
    }
   ],
   "source": [
    "df['Owns_Property'].value_counts()"
   ]
  },
  {
   "cell_type": "code",
   "execution_count": 34,
   "metadata": {},
   "outputs": [
    {
     "name": "stderr",
     "output_type": "stream",
     "text": [
      "/var/folders/t_/n3qjc33925g3rcxc6xw4vs540000gn/T/ipykernel_87584/2274906397.py:1: FutureWarning: Downcasting behavior in `replace` is deprecated and will be removed in a future version. To retain the old behavior, explicitly call `result.infer_objects(copy=False)`. To opt-in to the future behavior, set `pd.set_option('future.no_silent_downcasting', True)`\n",
      "  df[\"Owns_Property\"] = df[\"Owns_Property\"].replace({'No': 0, 'Yes': 1, 'Ye': 1, 'no': 0, 'NO': 0, 'YES': 1, 'yes': 1, 'Maybe': 2,'YE':1, 'Unknown': 3, 'ye': 1})\n"
     ]
    }
   ],
   "source": [
    "df[\"Owns_Property\"] = df[\"Owns_Property\"].replace({'No': 0, 'Yes': 1, 'Ye': 1, 'no': 0, 'NO': 0, 'YES': 1, 'yes': 1, 'Maybe': 2,'YE':1, 'Unknown': 3, 'ye': 1})"
   ]
  },
  {
   "cell_type": "code",
   "execution_count": 35,
   "metadata": {},
   "outputs": [
    {
     "data": {
      "text/plain": [
       "0        0\n",
       "1        1\n",
       "2        1\n",
       "3        0\n",
       "4        1\n",
       "        ..\n",
       "29995    0\n",
       "29996    1\n",
       "29997    1\n",
       "29998    0\n",
       "29999    0\n",
       "Name: Owns_Property, Length: 30000, dtype: int64"
      ]
     },
     "execution_count": 35,
     "metadata": {},
     "output_type": "execute_result"
    }
   ],
   "source": [
    "df['Owns_Property']"
   ]
  },
  {
   "cell_type": "code",
   "execution_count": 36,
   "metadata": {},
   "outputs": [
    {
     "data": {
      "text/plain": [
       "Owns_Property\n",
       "0    15054\n",
       "1    14555\n",
       "2      200\n",
       "3      191\n",
       "Name: count, dtype: int64"
      ]
     },
     "execution_count": 36,
     "metadata": {},
     "output_type": "execute_result"
    }
   ],
   "source": [
    "df['Owns_Property'].value_counts()"
   ]
  },
  {
   "cell_type": "code",
   "execution_count": 37,
   "metadata": {},
   "outputs": [
    {
     "data": {
      "text/plain": [
       "Has_Dependents\n",
       "No         12039\n",
       "Yes         9305\n",
       "Ye          2355\n",
       "NO          1484\n",
       "no          1476\n",
       "YES         1191\n",
       "yes         1176\n",
       "YE           288\n",
       "ye           264\n",
       "Maybe        218\n",
       "Unknown      204\n",
       "Name: count, dtype: int64"
      ]
     },
     "execution_count": 37,
     "metadata": {},
     "output_type": "execute_result"
    }
   ],
   "source": [
    "df['Has_Dependents'].value_counts()"
   ]
  },
  {
   "cell_type": "code",
   "execution_count": 38,
   "metadata": {},
   "outputs": [
    {
     "name": "stderr",
     "output_type": "stream",
     "text": [
      "/var/folders/t_/n3qjc33925g3rcxc6xw4vs540000gn/T/ipykernel_87584/4000135693.py:1: FutureWarning: Downcasting behavior in `replace` is deprecated and will be removed in a future version. To retain the old behavior, explicitly call `result.infer_objects(copy=False)`. To opt-in to the future behavior, set `pd.set_option('future.no_silent_downcasting', True)`\n",
      "  df['Has_Dependents'] = df['Has_Dependents'].replace({'No': 0, 'Yes': 1, 'Ye': 1, 'no': 0, 'NO': 0, 'YES': 1, 'yes': 1, 'Maybe': 2,'YE':1, 'Unknown': 3, 'ye': 1})\n"
     ]
    }
   ],
   "source": [
    "df['Has_Dependents'] = df['Has_Dependents'].replace({'No': 0, 'Yes': 1, 'Ye': 1, 'no': 0, 'NO': 0, 'YES': 1, 'yes': 1, 'Maybe': 2,'YE':1, 'Unknown': 3, 'ye': 1})"
   ]
  },
  {
   "cell_type": "code",
   "execution_count": 39,
   "metadata": {},
   "outputs": [
    {
     "data": {
      "text/plain": [
       "Has_Dependents\n",
       "0    14999\n",
       "1    14579\n",
       "2      218\n",
       "3      204\n",
       "Name: count, dtype: int64"
      ]
     },
     "execution_count": 39,
     "metadata": {},
     "output_type": "execute_result"
    }
   ],
   "source": [
    "df['Has_Dependents'].value_counts()\n"
   ]
  },
  {
   "cell_type": "code",
   "execution_count": 40,
   "metadata": {},
   "outputs": [
    {
     "data": {
      "text/plain": [
       "Investment_Sector\n",
       "Business     6122\n",
       "Education    6031\n",
       "Auto         5990\n",
       "Other        5952\n",
       "Home         5905\n",
       "Name: count, dtype: int64"
      ]
     },
     "execution_count": 40,
     "metadata": {},
     "output_type": "execute_result"
    }
   ],
   "source": [
    "df['Investment_Sector'].value_counts()\n"
   ]
  },
  {
   "cell_type": "code",
   "execution_count": 41,
   "metadata": {},
   "outputs": [
    {
     "name": "stderr",
     "output_type": "stream",
     "text": [
      "/var/folders/t_/n3qjc33925g3rcxc6xw4vs540000gn/T/ipykernel_87584/2654570013.py:6: FutureWarning: Downcasting behavior in `replace` is deprecated and will be removed in a future version. To retain the old behavior, explicitly call `result.infer_objects(copy=False)`. To opt-in to the future behavior, set `pd.set_option('future.no_silent_downcasting', True)`\n",
      "  df['Investment_Sector'] = df['Investment_Sector'].replace({'Home': 1, 'Business': 2, 'Education': 3, 'Other': 4, 'Auto': 5})\n"
     ]
    }
   ],
   "source": [
    "# Home\n",
    "# Business\n",
    "# Education\n",
    "# Other\n",
    "# Auto\n",
    "df['Investment_Sector'] = df['Investment_Sector'].replace({'Home': 1, 'Business': 2, 'Education': 3, 'Other': 4, 'Auto': 5})"
   ]
  },
  {
   "cell_type": "code",
   "execution_count": 42,
   "metadata": {},
   "outputs": [
    {
     "data": {
      "text/plain": [
       "Investment_Sector\n",
       "2    6122\n",
       "3    6031\n",
       "5    5990\n",
       "4    5952\n",
       "1    5905\n",
       "Name: count, dtype: int64"
      ]
     },
     "execution_count": 42,
     "metadata": {},
     "output_type": "execute_result"
    }
   ],
   "source": [
    "df['Investment_Sector'].value_counts()"
   ]
  },
  {
   "cell_type": "code",
   "execution_count": 43,
   "metadata": {},
   "outputs": [
    {
     "data": {
      "text/plain": [
       "Has_Investment_Advisor\n",
       "False    14941\n",
       "True     14579\n",
       "Name: count, dtype: int64"
      ]
     },
     "execution_count": 43,
     "metadata": {},
     "output_type": "execute_result"
    }
   ],
   "source": [
    "df['Has_Investment_Advisor'].value_counts()"
   ]
  },
  {
   "cell_type": "code",
   "execution_count": 44,
   "metadata": {},
   "outputs": [
    {
     "name": "stderr",
     "output_type": "stream",
     "text": [
      "/var/folders/t_/n3qjc33925g3rcxc6xw4vs540000gn/T/ipykernel_87584/679611915.py:3: FutureWarning: Downcasting behavior in `replace` is deprecated and will be removed in a future version. To retain the old behavior, explicitly call `result.infer_objects(copy=False)`. To opt-in to the future behavior, set `pd.set_option('future.no_silent_downcasting', True)`\n",
      "  df['Has_Investment_Advisor'] = df['Has_Investment_Advisor'].replace({True: 1, False: 0})\n"
     ]
    }
   ],
   "source": [
    "# True\n",
    "# False\n",
    "df['Has_Investment_Advisor'] = df['Has_Investment_Advisor'].replace({True: 1, False: 0})"
   ]
  },
  {
   "cell_type": "code",
   "execution_count": 45,
   "metadata": {},
   "outputs": [
    {
     "data": {
      "text/plain": [
       "Has_Investment_Advisor\n",
       "0.0    14941\n",
       "1.0    14579\n",
       "Name: count, dtype: int64"
      ]
     },
     "execution_count": 45,
     "metadata": {},
     "output_type": "execute_result"
    }
   ],
   "source": [
    "df['Has_Investment_Advisor'].value_counts()"
   ]
  },
  {
   "cell_type": "code",
   "execution_count": 46,
   "metadata": {},
   "outputs": [
    {
     "name": "stderr",
     "output_type": "stream",
     "text": [
      "/var/folders/t_/n3qjc33925g3rcxc6xw4vs540000gn/T/ipykernel_87584/2444166157.py:1: FutureWarning: A value is trying to be set on a copy of a DataFrame or Series through chained assignment using an inplace method.\n",
      "The behavior will change in pandas 3.0. This inplace method will never work because the intermediate object on which we are setting values always behaves as a copy.\n",
      "\n",
      "For example, when doing 'df[col].method(value, inplace=True)', try using 'df.method({col: value}, inplace=True)' or df[col] = df[col].method(value) instead, to perform the operation inplace on the original object.\n",
      "\n",
      "\n",
      "  df['Education'].fillna(df['Education'].mode(), inplace=True)\n"
     ]
    }
   ],
   "source": [
    "df['Education'].fillna(df['Education'].mode(), inplace=True)"
   ]
  },
  {
   "cell_type": "code",
   "execution_count": 47,
   "metadata": {},
   "outputs": [
    {
     "name": "stderr",
     "output_type": "stream",
     "text": [
      "/var/folders/t_/n3qjc33925g3rcxc6xw4vs540000gn/T/ipykernel_87584/997514612.py:2: FutureWarning: A value is trying to be set on a copy of a DataFrame or Series through chained assignment using an inplace method.\n",
      "The behavior will change in pandas 3.0. This inplace method will never work because the intermediate object on which we are setting values always behaves as a copy.\n",
      "\n",
      "For example, when doing 'df[col].method(value, inplace=True)', try using 'df.method({col: value}, inplace=True)' or df[col] = df[col].method(value) instead, to perform the operation inplace on the original object.\n",
      "\n",
      "\n",
      "  df['Employment_Status'].fillna(df['Employment_Status'].mode(), inplace=True)\n"
     ]
    }
   ],
   "source": [
    "# Employment_Status\n",
    "df['Employment_Status'].fillna(df['Employment_Status'].mode(), inplace=True)"
   ]
  },
  {
   "cell_type": "code",
   "execution_count": 48,
   "metadata": {},
   "outputs": [
    {
     "name": "stderr",
     "output_type": "stream",
     "text": [
      "/var/folders/t_/n3qjc33925g3rcxc6xw4vs540000gn/T/ipykernel_87584/1086451367.py:2: FutureWarning: A value is trying to be set on a copy of a DataFrame or Series through chained assignment using an inplace method.\n",
      "The behavior will change in pandas 3.0. This inplace method will never work because the intermediate object on which we are setting values always behaves as a copy.\n",
      "\n",
      "For example, when doing 'df[col].method(value, inplace=True)', try using 'df.method({col: value}, inplace=True)' or df[col] = df[col].method(value) instead, to perform the operation inplace on the original object.\n",
      "\n",
      "\n",
      "  df['Marital_Status'].fillna(df['Marital_Status'].mode().astype(int), inplace=True)\n"
     ]
    }
   ],
   "source": [
    "# Marital_Status\n",
    "df['Marital_Status'].fillna(df['Marital_Status'].mode().astype(int), inplace=True)"
   ]
  },
  {
   "cell_type": "code",
   "execution_count": 49,
   "metadata": {},
   "outputs": [
    {
     "name": "stderr",
     "output_type": "stream",
     "text": [
      "/var/folders/t_/n3qjc33925g3rcxc6xw4vs540000gn/T/ipykernel_87584/1602029545.py:2: FutureWarning: A value is trying to be set on a copy of a DataFrame or Series through chained assignment using an inplace method.\n",
      "The behavior will change in pandas 3.0. This inplace method will never work because the intermediate object on which we are setting values always behaves as a copy.\n",
      "\n",
      "For example, when doing 'df[col].method(value, inplace=True)', try using 'df.method({col: value}, inplace=True)' or df[col] = df[col].method(value) instead, to perform the operation inplace on the original object.\n",
      "\n",
      "\n",
      "  df['Owns_Property'].fillna(df['Owns_Property'].mode(), inplace=True)\n"
     ]
    }
   ],
   "source": [
    "# Owns_Property\n",
    "df['Owns_Property'].fillna(df['Owns_Property'].mode(), inplace=True)"
   ]
  },
  {
   "cell_type": "code",
   "execution_count": 50,
   "metadata": {},
   "outputs": [
    {
     "name": "stderr",
     "output_type": "stream",
     "text": [
      "/var/folders/t_/n3qjc33925g3rcxc6xw4vs540000gn/T/ipykernel_87584/1389843966.py:2: FutureWarning: A value is trying to be set on a copy of a DataFrame or Series through chained assignment using an inplace method.\n",
      "The behavior will change in pandas 3.0. This inplace method will never work because the intermediate object on which we are setting values always behaves as a copy.\n",
      "\n",
      "For example, when doing 'df[col].method(value, inplace=True)', try using 'df.method({col: value}, inplace=True)' or df[col] = df[col].method(value) instead, to perform the operation inplace on the original object.\n",
      "\n",
      "\n",
      "  df['Has_Dependents'].fillna(df['Has_Dependents'].mode(), inplace=True)\n"
     ]
    }
   ],
   "source": [
    "# Has_Dependents\n",
    "df['Has_Dependents'].fillna(df['Has_Dependents'].mode(), inplace=True)\n"
   ]
  },
  {
   "cell_type": "code",
   "execution_count": 51,
   "metadata": {},
   "outputs": [
    {
     "name": "stderr",
     "output_type": "stream",
     "text": [
      "/var/folders/t_/n3qjc33925g3rcxc6xw4vs540000gn/T/ipykernel_87584/3543384359.py:2: FutureWarning: A value is trying to be set on a copy of a DataFrame or Series through chained assignment using an inplace method.\n",
      "The behavior will change in pandas 3.0. This inplace method will never work because the intermediate object on which we are setting values always behaves as a copy.\n",
      "\n",
      "For example, when doing 'df[col].method(value, inplace=True)', try using 'df.method({col: value}, inplace=True)' or df[col] = df[col].method(value) instead, to perform the operation inplace on the original object.\n",
      "\n",
      "\n",
      "  df['Investment_Sector'].fillna(df['Investment_Sector'].mode(), inplace=True)\n"
     ]
    }
   ],
   "source": [
    "# Investment_Sector\n",
    "df['Investment_Sector'].fillna(df['Investment_Sector'].mode(), inplace=True)"
   ]
  },
  {
   "cell_type": "code",
   "execution_count": 52,
   "metadata": {},
   "outputs": [
    {
     "name": "stderr",
     "output_type": "stream",
     "text": [
      "/var/folders/t_/n3qjc33925g3rcxc6xw4vs540000gn/T/ipykernel_87584/320012495.py:2: FutureWarning: A value is trying to be set on a copy of a DataFrame or Series through chained assignment using an inplace method.\n",
      "The behavior will change in pandas 3.0. This inplace method will never work because the intermediate object on which we are setting values always behaves as a copy.\n",
      "\n",
      "For example, when doing 'df[col].method(value, inplace=True)', try using 'df.method({col: value}, inplace=True)' or df[col] = df[col].method(value) instead, to perform the operation inplace on the original object.\n",
      "\n",
      "\n",
      "  df['Has_Investment_Advisor'].fillna(df['Has_Investment_Advisor'].mode(), inplace=True)\n"
     ]
    }
   ],
   "source": [
    "# Has_Investment_Advisor\n",
    "df['Has_Investment_Advisor'].fillna(df['Has_Investment_Advisor'].mode(), inplace=True)"
   ]
  },
  {
   "cell_type": "code",
   "execution_count": 53,
   "metadata": {},
   "outputs": [
    {
     "data": {
      "text/html": [
       "<div>\n",
       "<style scoped>\n",
       "    .dataframe tbody tr th:only-of-type {\n",
       "        vertical-align: middle;\n",
       "    }\n",
       "\n",
       "    .dataframe tbody tr th {\n",
       "        vertical-align: top;\n",
       "    }\n",
       "\n",
       "    .dataframe thead th {\n",
       "        text-align: right;\n",
       "    }\n",
       "</style>\n",
       "<table border=\"1\" class=\"dataframe\">\n",
       "  <thead>\n",
       "    <tr style=\"text-align: right;\">\n",
       "      <th></th>\n",
       "      <th>Investor_ID</th>\n",
       "      <th>Age</th>\n",
       "      <th>Annual_Income</th>\n",
       "      <th>Investment_Amount</th>\n",
       "      <th>Risk_Tolerance_Score</th>\n",
       "      <th>Months_of_Investing_Experience</th>\n",
       "      <th>Number_of_Active_Investments</th>\n",
       "      <th>Potential_Return_Rate</th>\n",
       "      <th>Investment_Duration</th>\n",
       "      <th>Investment_to_Income_Ratio</th>\n",
       "      <th>Education</th>\n",
       "      <th>Employment_Status</th>\n",
       "      <th>Marital_Status</th>\n",
       "      <th>Owns_Property</th>\n",
       "      <th>Has_Dependents</th>\n",
       "      <th>Investment_Sector</th>\n",
       "      <th>Has_Investment_Advisor</th>\n",
       "    </tr>\n",
       "  </thead>\n",
       "  <tbody>\n",
       "    <tr>\n",
       "      <th>109</th>\n",
       "      <td>052HCMBFXO</td>\n",
       "      <td>25.0</td>\n",
       "      <td>64294.000000</td>\n",
       "      <td>131814.590995</td>\n",
       "      <td>309</td>\n",
       "      <td>26</td>\n",
       "      <td>2.000000</td>\n",
       "      <td>15.18</td>\n",
       "      <td>12</td>\n",
       "      <td>0.23</td>\n",
       "      <td>4</td>\n",
       "      <td>3</td>\n",
       "      <td>3.0</td>\n",
       "      <td>1</td>\n",
       "      <td>1</td>\n",
       "      <td>5</td>\n",
       "      <td>NaN</td>\n",
       "    </tr>\n",
       "    <tr>\n",
       "      <th>250</th>\n",
       "      <td>0C0AJCQBZK</td>\n",
       "      <td>50.0</td>\n",
       "      <td>96644.000000</td>\n",
       "      <td>205440.000000</td>\n",
       "      <td>609</td>\n",
       "      <td>11</td>\n",
       "      <td>2.000000</td>\n",
       "      <td>16.63</td>\n",
       "      <td>12</td>\n",
       "      <td>0.56</td>\n",
       "      <td>4</td>\n",
       "      <td>4</td>\n",
       "      <td>3.0</td>\n",
       "      <td>1</td>\n",
       "      <td>0</td>\n",
       "      <td>5</td>\n",
       "      <td>NaN</td>\n",
       "    </tr>\n",
       "    <tr>\n",
       "      <th>251</th>\n",
       "      <td>0C11RWUB9M</td>\n",
       "      <td>28.0</td>\n",
       "      <td>80129.889746</td>\n",
       "      <td>158058.000000</td>\n",
       "      <td>410</td>\n",
       "      <td>89</td>\n",
       "      <td>3.000000</td>\n",
       "      <td>13.23</td>\n",
       "      <td>12</td>\n",
       "      <td>0.85</td>\n",
       "      <td>4</td>\n",
       "      <td>4</td>\n",
       "      <td>3.0</td>\n",
       "      <td>1</td>\n",
       "      <td>1</td>\n",
       "      <td>4</td>\n",
       "      <td>NaN</td>\n",
       "    </tr>\n",
       "    <tr>\n",
       "      <th>383</th>\n",
       "      <td>0GT7OGLNSG</td>\n",
       "      <td>54.0</td>\n",
       "      <td>22387.000000</td>\n",
       "      <td>131814.590995</td>\n",
       "      <td>732</td>\n",
       "      <td>68</td>\n",
       "      <td>2.000000</td>\n",
       "      <td>23.54</td>\n",
       "      <td>24</td>\n",
       "      <td>0.77</td>\n",
       "      <td>2</td>\n",
       "      <td>3</td>\n",
       "      <td>3.0</td>\n",
       "      <td>1</td>\n",
       "      <td>1</td>\n",
       "      <td>3</td>\n",
       "      <td>NaN</td>\n",
       "    </tr>\n",
       "    <tr>\n",
       "      <th>474</th>\n",
       "      <td>0KBS44VP7N</td>\n",
       "      <td>68.0</td>\n",
       "      <td>43106.000000</td>\n",
       "      <td>176381.000000</td>\n",
       "      <td>627</td>\n",
       "      <td>113</td>\n",
       "      <td>3.000000</td>\n",
       "      <td>6.98</td>\n",
       "      <td>48</td>\n",
       "      <td>0.16</td>\n",
       "      <td>2</td>\n",
       "      <td>1</td>\n",
       "      <td>2.0</td>\n",
       "      <td>0</td>\n",
       "      <td>1</td>\n",
       "      <td>4</td>\n",
       "      <td>NaN</td>\n",
       "    </tr>\n",
       "    <tr>\n",
       "      <th>...</th>\n",
       "      <td>...</td>\n",
       "      <td>...</td>\n",
       "      <td>...</td>\n",
       "      <td>...</td>\n",
       "      <td>...</td>\n",
       "      <td>...</td>\n",
       "      <td>...</td>\n",
       "      <td>...</td>\n",
       "      <td>...</td>\n",
       "      <td>...</td>\n",
       "      <td>...</td>\n",
       "      <td>...</td>\n",
       "      <td>...</td>\n",
       "      <td>...</td>\n",
       "      <td>...</td>\n",
       "      <td>...</td>\n",
       "      <td>...</td>\n",
       "    </tr>\n",
       "    <tr>\n",
       "      <th>29357</th>\n",
       "      <td>Z78A4ESZ3L</td>\n",
       "      <td>42.0</td>\n",
       "      <td>97142.000000</td>\n",
       "      <td>161999.000000</td>\n",
       "      <td>722</td>\n",
       "      <td>96</td>\n",
       "      <td>1.000000</td>\n",
       "      <td>2.67</td>\n",
       "      <td>48</td>\n",
       "      <td>0.76</td>\n",
       "      <td>4</td>\n",
       "      <td>4</td>\n",
       "      <td>2.0</td>\n",
       "      <td>0</td>\n",
       "      <td>1</td>\n",
       "      <td>1</td>\n",
       "      <td>NaN</td>\n",
       "    </tr>\n",
       "    <tr>\n",
       "      <th>29687</th>\n",
       "      <td>ZLZID1X1TN</td>\n",
       "      <td>32.0</td>\n",
       "      <td>80129.889746</td>\n",
       "      <td>53559.000000</td>\n",
       "      <td>586</td>\n",
       "      <td>47</td>\n",
       "      <td>1.000000</td>\n",
       "      <td>8.32</td>\n",
       "      <td>60</td>\n",
       "      <td>0.57</td>\n",
       "      <td>3</td>\n",
       "      <td>1</td>\n",
       "      <td>3.0</td>\n",
       "      <td>1</td>\n",
       "      <td>1</td>\n",
       "      <td>4</td>\n",
       "      <td>NaN</td>\n",
       "    </tr>\n",
       "    <tr>\n",
       "      <th>29820</th>\n",
       "      <td>ZSCI6N44BL</td>\n",
       "      <td>30.0</td>\n",
       "      <td>80129.889746</td>\n",
       "      <td>83523.000000</td>\n",
       "      <td>379</td>\n",
       "      <td>39</td>\n",
       "      <td>1.000000</td>\n",
       "      <td>15.23</td>\n",
       "      <td>60</td>\n",
       "      <td>0.80</td>\n",
       "      <td>4</td>\n",
       "      <td>4</td>\n",
       "      <td>2.0</td>\n",
       "      <td>1</td>\n",
       "      <td>0</td>\n",
       "      <td>4</td>\n",
       "      <td>NaN</td>\n",
       "    </tr>\n",
       "    <tr>\n",
       "      <th>29921</th>\n",
       "      <td>ZWNVME3K9P</td>\n",
       "      <td>25.0</td>\n",
       "      <td>33490.000000</td>\n",
       "      <td>165552.000000</td>\n",
       "      <td>664</td>\n",
       "      <td>94</td>\n",
       "      <td>2.521424</td>\n",
       "      <td>16.95</td>\n",
       "      <td>60</td>\n",
       "      <td>0.83</td>\n",
       "      <td>2</td>\n",
       "      <td>1</td>\n",
       "      <td>1.0</td>\n",
       "      <td>1</td>\n",
       "      <td>0</td>\n",
       "      <td>4</td>\n",
       "      <td>NaN</td>\n",
       "    </tr>\n",
       "    <tr>\n",
       "      <th>29957</th>\n",
       "      <td>ZXYWNOKJPF</td>\n",
       "      <td>64.0</td>\n",
       "      <td>19104.000000</td>\n",
       "      <td>200060.000000</td>\n",
       "      <td>814</td>\n",
       "      <td>40</td>\n",
       "      <td>3.000000</td>\n",
       "      <td>4.00</td>\n",
       "      <td>36</td>\n",
       "      <td>0.66</td>\n",
       "      <td>3</td>\n",
       "      <td>3</td>\n",
       "      <td>2.0</td>\n",
       "      <td>0</td>\n",
       "      <td>1</td>\n",
       "      <td>2</td>\n",
       "      <td>NaN</td>\n",
       "    </tr>\n",
       "  </tbody>\n",
       "</table>\n",
       "<p>480 rows × 17 columns</p>\n",
       "</div>"
      ],
      "text/plain": [
       "      Investor_ID   Age  Annual_Income  Investment_Amount  \\\n",
       "109    052HCMBFXO  25.0   64294.000000      131814.590995   \n",
       "250    0C0AJCQBZK  50.0   96644.000000      205440.000000   \n",
       "251    0C11RWUB9M  28.0   80129.889746      158058.000000   \n",
       "383    0GT7OGLNSG  54.0   22387.000000      131814.590995   \n",
       "474    0KBS44VP7N  68.0   43106.000000      176381.000000   \n",
       "...           ...   ...            ...                ...   \n",
       "29357  Z78A4ESZ3L  42.0   97142.000000      161999.000000   \n",
       "29687  ZLZID1X1TN  32.0   80129.889746       53559.000000   \n",
       "29820  ZSCI6N44BL  30.0   80129.889746       83523.000000   \n",
       "29921  ZWNVME3K9P  25.0   33490.000000      165552.000000   \n",
       "29957  ZXYWNOKJPF  64.0   19104.000000      200060.000000   \n",
       "\n",
       "       Risk_Tolerance_Score  Months_of_Investing_Experience  \\\n",
       "109                     309                              26   \n",
       "250                     609                              11   \n",
       "251                     410                              89   \n",
       "383                     732                              68   \n",
       "474                     627                             113   \n",
       "...                     ...                             ...   \n",
       "29357                   722                              96   \n",
       "29687                   586                              47   \n",
       "29820                   379                              39   \n",
       "29921                   664                              94   \n",
       "29957                   814                              40   \n",
       "\n",
       "       Number_of_Active_Investments  Potential_Return_Rate  \\\n",
       "109                        2.000000                  15.18   \n",
       "250                        2.000000                  16.63   \n",
       "251                        3.000000                  13.23   \n",
       "383                        2.000000                  23.54   \n",
       "474                        3.000000                   6.98   \n",
       "...                             ...                    ...   \n",
       "29357                      1.000000                   2.67   \n",
       "29687                      1.000000                   8.32   \n",
       "29820                      1.000000                  15.23   \n",
       "29921                      2.521424                  16.95   \n",
       "29957                      3.000000                   4.00   \n",
       "\n",
       "       Investment_Duration  Investment_to_Income_Ratio  Education  \\\n",
       "109                     12                        0.23          4   \n",
       "250                     12                        0.56          4   \n",
       "251                     12                        0.85          4   \n",
       "383                     24                        0.77          2   \n",
       "474                     48                        0.16          2   \n",
       "...                    ...                         ...        ...   \n",
       "29357                   48                        0.76          4   \n",
       "29687                   60                        0.57          3   \n",
       "29820                   60                        0.80          4   \n",
       "29921                   60                        0.83          2   \n",
       "29957                   36                        0.66          3   \n",
       "\n",
       "       Employment_Status  Marital_Status  Owns_Property  Has_Dependents  \\\n",
       "109                    3             3.0              1               1   \n",
       "250                    4             3.0              1               0   \n",
       "251                    4             3.0              1               1   \n",
       "383                    3             3.0              1               1   \n",
       "474                    1             2.0              0               1   \n",
       "...                  ...             ...            ...             ...   \n",
       "29357                  4             2.0              0               1   \n",
       "29687                  1             3.0              1               1   \n",
       "29820                  4             2.0              1               0   \n",
       "29921                  1             1.0              1               0   \n",
       "29957                  3             2.0              0               1   \n",
       "\n",
       "       Investment_Sector  Has_Investment_Advisor  \n",
       "109                    5                     NaN  \n",
       "250                    5                     NaN  \n",
       "251                    4                     NaN  \n",
       "383                    3                     NaN  \n",
       "474                    4                     NaN  \n",
       "...                  ...                     ...  \n",
       "29357                  1                     NaN  \n",
       "29687                  4                     NaN  \n",
       "29820                  4                     NaN  \n",
       "29921                  4                     NaN  \n",
       "29957                  2                     NaN  \n",
       "\n",
       "[480 rows x 17 columns]"
      ]
     },
     "execution_count": 53,
     "metadata": {},
     "output_type": "execute_result"
    }
   ],
   "source": [
    "# print the row that have null value in column \"Marital_Status\"\n",
    "df[df['Has_Investment_Advisor'].isnull()]"
   ]
  },
  {
   "cell_type": "code",
   "execution_count": 54,
   "metadata": {},
   "outputs": [
    {
     "name": "stderr",
     "output_type": "stream",
     "text": [
      "/var/folders/t_/n3qjc33925g3rcxc6xw4vs540000gn/T/ipykernel_87584/3367617735.py:2: FutureWarning: A value is trying to be set on a copy of a DataFrame or Series through chained assignment using an inplace method.\n",
      "The behavior will change in pandas 3.0. This inplace method will never work because the intermediate object on which we are setting values always behaves as a copy.\n",
      "\n",
      "For example, when doing 'df[col].method(value, inplace=True)', try using 'df.method({col: value}, inplace=True)' or df[col] = df[col].method(value) instead, to perform the operation inplace on the original object.\n",
      "\n",
      "\n",
      "  df['Marital_Status'].fillna(1, inplace=True)\n",
      "/var/folders/t_/n3qjc33925g3rcxc6xw4vs540000gn/T/ipykernel_87584/3367617735.py:3: FutureWarning: A value is trying to be set on a copy of a DataFrame or Series through chained assignment using an inplace method.\n",
      "The behavior will change in pandas 3.0. This inplace method will never work because the intermediate object on which we are setting values always behaves as a copy.\n",
      "\n",
      "For example, when doing 'df[col].method(value, inplace=True)', try using 'df.method({col: value}, inplace=True)' or df[col] = df[col].method(value) instead, to perform the operation inplace on the original object.\n",
      "\n",
      "\n",
      "  df['Has_Investment_Advisor'].fillna(1, inplace=True)\n"
     ]
    }
   ],
   "source": [
    "# df['Martial_Status'] have some values NaN replace it with 1\n",
    "df['Marital_Status'].fillna(1, inplace=True)\n",
    "df['Has_Investment_Advisor'].fillna(1, inplace=True)"
   ]
  },
  {
   "cell_type": "code",
   "execution_count": 55,
   "metadata": {},
   "outputs": [
    {
     "data": {
      "text/plain": [
       "Investor_ID                       0\n",
       "Age                               0\n",
       "Annual_Income                     0\n",
       "Investment_Amount                 0\n",
       "Risk_Tolerance_Score              0\n",
       "Months_of_Investing_Experience    0\n",
       "Number_of_Active_Investments      0\n",
       "Potential_Return_Rate             0\n",
       "Investment_Duration               0\n",
       "Investment_to_Income_Ratio        0\n",
       "Education                         0\n",
       "Employment_Status                 0\n",
       "Marital_Status                    0\n",
       "Owns_Property                     0\n",
       "Has_Dependents                    0\n",
       "Investment_Sector                 0\n",
       "Has_Investment_Advisor            0\n",
       "dtype: int64"
      ]
     },
     "execution_count": 55,
     "metadata": {},
     "output_type": "execute_result"
    }
   ],
   "source": [
    "df.isnull().sum()"
   ]
  },
  {
   "cell_type": "code",
   "execution_count": 56,
   "metadata": {},
   "outputs": [],
   "source": [
    "# save the updated data in excel file named\"trainDataCleaned.xlsx\"\n",
    "df.drop(['Investor_ID'], axis=1, inplace=True)\n",
    "df.to_excel(\"trainDataCleaned2.xlsx\")"
   ]
  },
  {
   "cell_type": "code",
   "execution_count": 57,
   "metadata": {},
   "outputs": [
    {
     "data": {
      "text/plain": [
       "<Axes: ylabel='Age'>"
      ]
     },
     "execution_count": 57,
     "metadata": {},
     "output_type": "execute_result"
    },
    {
     "data": {
      "image/png": "[encoded data removed]",
      "text/plain": [
       "<Figure size 1000x600 with 1 Axes>"
      ]
     },
     "metadata": {},
     "output_type": "display_data"
    }
   ],
   "source": [
    "# Start checking Outliers\n",
    "# Box plot for Age\n",
    "plt.figure(figsize=(10, 6))\n",
    "sns.boxplot(df['Age'])\n"
   ]
  },
  {
   "cell_type": "code",
   "execution_count": 58,
   "metadata": {},
   "outputs": [
    {
     "name": "stdout",
     "output_type": "stream",
     "text": [
      "(893, 16)\n",
      "(30000, 16)\n"
     ]
    }
   ],
   "source": [
    "# print count of ages that are greater than 100\n",
    "print(df[df['Age'] > 100].shape)\n",
    "print(df.shape)"
   ]
  },
  {
   "cell_type": "code",
   "execution_count": 59,
   "metadata": {},
   "outputs": [],
   "source": [
    "# Drop all the values that are having age > 100\n",
    "df = df[df['Age'] < 100]"
   ]
  },
  {
   "cell_type": "code",
   "execution_count": 60,
   "metadata": {},
   "outputs": [
    {
     "name": "stdout",
     "output_type": "stream",
     "text": [
      "(0, 16)\n",
      "(29061, 16)\n"
     ]
    }
   ],
   "source": [
    "# print count of ages that are greater than 100\n",
    "print(df[df['Age'] > 100].shape)\n",
    "print(df.shape)"
   ]
  },
  {
   "cell_type": "code",
   "execution_count": 61,
   "metadata": {},
   "outputs": [
    {
     "data": {
      "text/plain": [
       "<Axes: ylabel='Age'>"
      ]
     },
     "execution_count": 61,
     "metadata": {},
     "output_type": "execute_result"
    },
    {
     "data": {
      "image/png": "[encoded data removed]",
      "text/plain": [
       "<Figure size 640x480 with 1 Axes>"
      ]
     },
     "metadata": {},
     "output_type": "display_data"
    }
   ],
   "source": [
    "sns.boxplot(df['Age'])"
   ]
  },
  {
   "cell_type": "code",
   "execution_count": 62,
   "metadata": {},
   "outputs": [
    {
     "data": {
      "text/plain": [
       "{'whiskers': [<matplotlib.lines.Line2D at 0x31a0dd910>,\n",
       "  <matplotlib.lines.Line2D at 0x31a0de2d0>],\n",
       " 'caps': [<matplotlib.lines.Line2D at 0x31a0decd0>,\n",
       "  <matplotlib.lines.Line2D at 0x31a0df650>],\n",
       " 'boxes': [<matplotlib.lines.Line2D at 0x31a0dcf90>],\n",
       " 'medians': [<matplotlib.lines.Line2D at 0x31a0dff10>],\n",
       " 'fliers': [<matplotlib.lines.Line2D at 0x31a0d4750>],\n",
       " 'means': []}"
      ]
     },
     "execution_count": 62,
     "metadata": {},
     "output_type": "execute_result"
    },
    {
     "data": {
      "image/png": "[encoded data removed]",
      "text/plain": [
       "<Figure size 1000x600 with 1 Axes>"
      ]
     },
     "metadata": {},
     "output_type": "display_data"
    }
   ],
   "source": [
    "import matplotlib.pyplot as plt\n",
    "# check all the columns for outliers\n",
    "plt.figure(figsize=(10, 6))\n",
    "plt.boxplot(df['Annual_Income'])\n"
   ]
  },
  {
   "cell_type": "code",
   "execution_count": 63,
   "metadata": {},
   "outputs": [
    {
     "data": {
      "text/plain": [
       "{'whiskers': [<matplotlib.lines.Line2D at 0x31a030250>,\n",
       "  <matplotlib.lines.Line2D at 0x31a030c10>],\n",
       " 'caps': [<matplotlib.lines.Line2D at 0x31a031650>,\n",
       "  <matplotlib.lines.Line2D at 0x31a031f10>],\n",
       " 'boxes': [<matplotlib.lines.Line2D at 0x31a043910>],\n",
       " 'medians': [<matplotlib.lines.Line2D at 0x31a032750>],\n",
       " 'fliers': [<matplotlib.lines.Line2D at 0x31a032f90>],\n",
       " 'means': []}"
      ]
     },
     "execution_count": 63,
     "metadata": {},
     "output_type": "execute_result"
    },
    {
     "data": {
      "image/png": "[encoded data removed]",
      "text/plain": [
       "<Figure size 640x480 with 1 Axes>"
      ]
     },
     "metadata": {},
     "output_type": "display_data"
    }
   ],
   "source": [
    "plt.boxplot(df['Investment_Amount'])"
   ]
  },
  {
   "cell_type": "code",
   "execution_count": 64,
   "metadata": {},
   "outputs": [
    {
     "data": {
      "text/plain": [
       "{'whiskers': [<matplotlib.lines.Line2D at 0x319fa94d0>,\n",
       "  <matplotlib.lines.Line2D at 0x319fa9c10>],\n",
       " 'caps': [<matplotlib.lines.Line2D at 0x319faa6d0>,\n",
       "  <matplotlib.lines.Line2D at 0x319faae90>],\n",
       " 'boxes': [<matplotlib.lines.Line2D at 0x319ffb990>],\n",
       " 'medians': [<matplotlib.lines.Line2D at 0x319fab5d0>],\n",
       " 'fliers': [<matplotlib.lines.Line2D at 0x319fabf90>],\n",
       " 'means': []}"
      ]
     },
     "execution_count": 64,
     "metadata": {},
     "output_type": "execute_result"
    },
    {
     "data": {
      "image/png": "[encoded data removed]",
      "text/plain": [
       "<Figure size 640x480 with 1 Axes>"
      ]
     },
     "metadata": {},
     "output_type": "display_data"
    }
   ],
   "source": [
    "plt.boxplot(df['Investment_Amount'])"
   ]
  },
  {
   "cell_type": "code",
   "execution_count": 65,
   "metadata": {},
   "outputs": [
    {
     "data": {
      "text/plain": [
       "{'whiskers': [<matplotlib.lines.Line2D at 0x319f3d550>,\n",
       "  <matplotlib.lines.Line2D at 0x319f3e010>],\n",
       " 'caps': [<matplotlib.lines.Line2D at 0x319f3ea10>,\n",
       "  <matplotlib.lines.Line2D at 0x31a0dc710>],\n",
       " 'boxes': [<matplotlib.lines.Line2D at 0x319f3ccd0>],\n",
       " 'medians': [<matplotlib.lines.Line2D at 0x319f3f810>],\n",
       " 'fliers': [<matplotlib.lines.Line2D at 0x319f2c0d0>],\n",
       " 'means': []}"
      ]
     },
     "execution_count": 65,
     "metadata": {},
     "output_type": "execute_result"
    },
    {
     "data": {
      "image/png": "[encoded data removed]",
      "text/plain": [
       "<Figure size 640x480 with 1 Axes>"
      ]
     },
     "metadata": {},
     "output_type": "display_data"
    }
   ],
   "source": [
    "plt.boxplot(df['Risk_Tolerance_Score'])"
   ]
  },
  {
   "cell_type": "code",
   "execution_count": 66,
   "metadata": {},
   "outputs": [
    {
     "data": {
      "text/html": [
       "<div>\n",
       "<style scoped>\n",
       "    .dataframe tbody tr th:only-of-type {\n",
       "        vertical-align: middle;\n",
       "    }\n",
       "\n",
       "    .dataframe tbody tr th {\n",
       "        vertical-align: top;\n",
       "    }\n",
       "\n",
       "    .dataframe thead th {\n",
       "        text-align: right;\n",
       "    }\n",
       "</style>\n",
       "<table border=\"1\" class=\"dataframe\">\n",
       "  <thead>\n",
       "    <tr style=\"text-align: right;\">\n",
       "      <th></th>\n",
       "      <th>Age</th>\n",
       "      <th>Annual_Income</th>\n",
       "      <th>Investment_Amount</th>\n",
       "      <th>Risk_Tolerance_Score</th>\n",
       "      <th>Months_of_Investing_Experience</th>\n",
       "      <th>Number_of_Active_Investments</th>\n",
       "      <th>Potential_Return_Rate</th>\n",
       "      <th>Investment_Duration</th>\n",
       "      <th>Investment_to_Income_Ratio</th>\n",
       "      <th>Education</th>\n",
       "      <th>Employment_Status</th>\n",
       "      <th>Marital_Status</th>\n",
       "      <th>Owns_Property</th>\n",
       "      <th>Has_Dependents</th>\n",
       "      <th>Investment_Sector</th>\n",
       "      <th>Has_Investment_Advisor</th>\n",
       "    </tr>\n",
       "  </thead>\n",
       "  <tbody>\n",
       "    <tr>\n",
       "      <th>count</th>\n",
       "      <td>29061.000000</td>\n",
       "      <td>29061.000000</td>\n",
       "      <td>29061.000000</td>\n",
       "      <td>29061.000000</td>\n",
       "      <td>29061.000000</td>\n",
       "      <td>29061.000000</td>\n",
       "      <td>29061.000000</td>\n",
       "      <td>29061.000000</td>\n",
       "      <td>29061.000000</td>\n",
       "      <td>29061.000000</td>\n",
       "      <td>29061.000000</td>\n",
       "      <td>29061.000000</td>\n",
       "      <td>29061.000000</td>\n",
       "      <td>29061.000000</td>\n",
       "      <td>29061.000000</td>\n",
       "      <td>29061.000000</td>\n",
       "    </tr>\n",
       "    <tr>\n",
       "      <th>mean</th>\n",
       "      <td>42.215913</td>\n",
       "      <td>80114.629101</td>\n",
       "      <td>131852.978247</td>\n",
       "      <td>594.603902</td>\n",
       "      <td>57.343897</td>\n",
       "      <td>2.520192</td>\n",
       "      <td>14.069470</td>\n",
       "      <td>35.990916</td>\n",
       "      <td>0.503893</td>\n",
       "      <td>2.468807</td>\n",
       "      <td>2.510822</td>\n",
       "      <td>1.806579</td>\n",
       "      <td>0.518324</td>\n",
       "      <td>0.521076</td>\n",
       "      <td>2.998727</td>\n",
       "      <td>0.502976</td>\n",
       "    </tr>\n",
       "    <tr>\n",
       "      <th>std</th>\n",
       "      <td>13.901684</td>\n",
       "      <td>37778.151328</td>\n",
       "      <td>68103.481281</td>\n",
       "      <td>187.260100</td>\n",
       "      <td>34.762969</td>\n",
       "      <td>1.106357</td>\n",
       "      <td>6.499246</td>\n",
       "      <td>16.973772</td>\n",
       "      <td>0.231592</td>\n",
       "      <td>1.119725</td>\n",
       "      <td>1.136667</td>\n",
       "      <td>0.833317</td>\n",
       "      <td>0.548209</td>\n",
       "      <td>0.552612</td>\n",
       "      <td>1.409106</td>\n",
       "      <td>0.500000</td>\n",
       "    </tr>\n",
       "    <tr>\n",
       "      <th>min</th>\n",
       "      <td>18.000000</td>\n",
       "      <td>15005.000000</td>\n",
       "      <td>5012.000000</td>\n",
       "      <td>300.000000</td>\n",
       "      <td>0.000000</td>\n",
       "      <td>1.000000</td>\n",
       "      <td>2.000000</td>\n",
       "      <td>12.000000</td>\n",
       "      <td>0.100000</td>\n",
       "      <td>1.000000</td>\n",
       "      <td>1.000000</td>\n",
       "      <td>1.000000</td>\n",
       "      <td>0.000000</td>\n",
       "      <td>0.000000</td>\n",
       "      <td>1.000000</td>\n",
       "      <td>0.000000</td>\n",
       "    </tr>\n",
       "    <tr>\n",
       "      <th>25%</th>\n",
       "      <td>31.000000</td>\n",
       "      <td>48533.000000</td>\n",
       "      <td>76606.000000</td>\n",
       "      <td>439.000000</td>\n",
       "      <td>27.000000</td>\n",
       "      <td>2.000000</td>\n",
       "      <td>8.680000</td>\n",
       "      <td>24.000000</td>\n",
       "      <td>0.300000</td>\n",
       "      <td>1.000000</td>\n",
       "      <td>1.000000</td>\n",
       "      <td>1.000000</td>\n",
       "      <td>0.000000</td>\n",
       "      <td>0.000000</td>\n",
       "      <td>2.000000</td>\n",
       "      <td>0.000000</td>\n",
       "    </tr>\n",
       "    <tr>\n",
       "      <th>50%</th>\n",
       "      <td>44.323255</td>\n",
       "      <td>80129.889746</td>\n",
       "      <td>131814.590995</td>\n",
       "      <td>584.000000</td>\n",
       "      <td>56.000000</td>\n",
       "      <td>2.521424</td>\n",
       "      <td>14.074364</td>\n",
       "      <td>36.000000</td>\n",
       "      <td>0.510000</td>\n",
       "      <td>2.000000</td>\n",
       "      <td>3.000000</td>\n",
       "      <td>2.000000</td>\n",
       "      <td>0.000000</td>\n",
       "      <td>1.000000</td>\n",
       "      <td>3.000000</td>\n",
       "      <td>1.000000</td>\n",
       "    </tr>\n",
       "    <tr>\n",
       "      <th>75%</th>\n",
       "      <td>52.000000</td>\n",
       "      <td>110903.000000</td>\n",
       "      <td>189358.000000</td>\n",
       "      <td>731.000000</td>\n",
       "      <td>87.000000</td>\n",
       "      <td>4.000000</td>\n",
       "      <td>19.630000</td>\n",
       "      <td>48.000000</td>\n",
       "      <td>0.710000</td>\n",
       "      <td>3.000000</td>\n",
       "      <td>4.000000</td>\n",
       "      <td>3.000000</td>\n",
       "      <td>1.000000</td>\n",
       "      <td>1.000000</td>\n",
       "      <td>4.000000</td>\n",
       "      <td>1.000000</td>\n",
       "    </tr>\n",
       "    <tr>\n",
       "      <th>max</th>\n",
       "      <td>69.000000</td>\n",
       "      <td>149999.000000</td>\n",
       "      <td>249996.000000</td>\n",
       "      <td>1099.000000</td>\n",
       "      <td>119.000000</td>\n",
       "      <td>4.000000</td>\n",
       "      <td>25.000000</td>\n",
       "      <td>60.000000</td>\n",
       "      <td>0.900000</td>\n",
       "      <td>4.000000</td>\n",
       "      <td>5.000000</td>\n",
       "      <td>3.000000</td>\n",
       "      <td>3.000000</td>\n",
       "      <td>3.000000</td>\n",
       "      <td>5.000000</td>\n",
       "      <td>1.000000</td>\n",
       "    </tr>\n",
       "  </tbody>\n",
       "</table>\n",
       "</div>"
      ],
      "text/plain": [
       "                Age  Annual_Income  Investment_Amount  Risk_Tolerance_Score  \\\n",
       "count  29061.000000   29061.000000       29061.000000          29061.000000   \n",
       "mean      42.215913   80114.629101      131852.978247            594.603902   \n",
       "std       13.901684   37778.151328       68103.481281            187.260100   \n",
       "min       18.000000   15005.000000        5012.000000            300.000000   \n",
       "25%       31.000000   48533.000000       76606.000000            439.000000   \n",
       "50%       44.323255   80129.889746      131814.590995            584.000000   \n",
       "75%       52.000000  110903.000000      189358.000000            731.000000   \n",
       "max       69.000000  149999.000000      249996.000000           1099.000000   \n",
       "\n",
       "       Months_of_Investing_Experience  Number_of_Active_Investments  \\\n",
       "count                    29061.000000                  29061.000000   \n",
       "mean                        57.343897                      2.520192   \n",
       "std                         34.762969                      1.106357   \n",
       "min                          0.000000                      1.000000   \n",
       "25%                         27.000000                      2.000000   \n",
       "50%                         56.000000                      2.521424   \n",
       "75%                         87.000000                      4.000000   \n",
       "max                        119.000000                      4.000000   \n",
       "\n",
       "       Potential_Return_Rate  Investment_Duration  Investment_to_Income_Ratio  \\\n",
       "count           29061.000000         29061.000000                29061.000000   \n",
       "mean               14.069470            35.990916                    0.503893   \n",
       "std                 6.499246            16.973772                    0.231592   \n",
       "min                 2.000000            12.000000                    0.100000   \n",
       "25%                 8.680000            24.000000                    0.300000   \n",
       "50%                14.074364            36.000000                    0.510000   \n",
       "75%                19.630000            48.000000                    0.710000   \n",
       "max                25.000000            60.000000                    0.900000   \n",
       "\n",
       "          Education  Employment_Status  Marital_Status  Owns_Property  \\\n",
       "count  29061.000000       29061.000000    29061.000000   29061.000000   \n",
       "mean       2.468807           2.510822        1.806579       0.518324   \n",
       "std        1.119725           1.136667        0.833317       0.548209   \n",
       "min        1.000000           1.000000        1.000000       0.000000   \n",
       "25%        1.000000           1.000000        1.000000       0.000000   \n",
       "50%        2.000000           3.000000        2.000000       0.000000   \n",
       "75%        3.000000           4.000000        3.000000       1.000000   \n",
       "max        4.000000           5.000000        3.000000       3.000000   \n",
       "\n",
       "       Has_Dependents  Investment_Sector  Has_Investment_Advisor  \n",
       "count    29061.000000       29061.000000            29061.000000  \n",
       "mean         0.521076           2.998727                0.502976  \n",
       "std          0.552612           1.409106                0.500000  \n",
       "min          0.000000           1.000000                0.000000  \n",
       "25%          0.000000           2.000000                0.000000  \n",
       "50%          1.000000           3.000000                1.000000  \n",
       "75%          1.000000           4.000000                1.000000  \n",
       "max          3.000000           5.000000                1.000000  "
      ]
     },
     "execution_count": 66,
     "metadata": {},
     "output_type": "execute_result"
    }
   ],
   "source": [
    "# check the min and max values in all columns\n",
    "df.describe()"
   ]
  },
  {
   "cell_type": "code",
   "execution_count": 69,
   "metadata": {},
   "outputs": [],
   "source": [
    "# Importing necessary libraries\n",
    "from sklearn.ensemble import RandomForestClassifier\n",
    "from sklearn.model_selection import train_test_split\n",
    "import pandas as pd\n",
    "\n",
    "# Load train and test data\n",
    "train_data = pd.read_csv('trainDataCleanedX.csv')  # Assuming your train file is in CSV format\n",
    "test_data = pd.read_csv('testDataCleanedX.csv')    # Assuming your test file is in CSV format\n",
    "\n",
    "# Separate features and target variable\n",
    "X_train = train_data.drop(columns=['Investment_Failed'])  # Adjust 'target_column' with your actual target column name\n",
    "y_train = train_data['Investment_Failed']\n",
    "\n",
    "# Splitting the data into training and testing sets\n",
    "X_train, X_val, y_train, y_val = train_test_split(X_train, y_train, test_size=0.1, random_state=42)\n",
    "\n",
    "# Initialize Random Forest classifier\n",
    "rf_classifier = RandomForestClassifier(n_estimators=100, random_state=42)\n",
    "\n",
    "# Train the classifier\n",
    "rf_classifier.fit(X_train, y_train)\n",
    "\n",
    "# Predict on the test data\n",
    "y_pred = rf_classifier.predict(test_data)  # Assuming 'test_data' contains features only\n",
    "\n",
    "# Once trained and tested, you can use rf_classifier for prediction and evaluation\n"
   ]
  },
  {
   "cell_type": "code",
   "execution_count": 70,
   "metadata": {},
   "outputs": [],
   "source": [
    "y_pred = rf_classifier.predict(test_data)"
   ]
  },
  {
   "cell_type": "code",
   "execution_count": 71,
   "metadata": {},
   "outputs": [],
   "source": [
    "dfs = pd.DataFrame(y_val)\n"
   ]
  },
  {
   "cell_type": "code",
   "execution_count": 72,
   "metadata": {},
   "outputs": [],
   "source": [
    "dfs.to_excel(\"output.xlsx\")"
   ]
  },
  {
   "cell_type": "code",
   "execution_count": 73,
   "metadata": {},
   "outputs": [],
   "source": [
    "dfs = pd.DataFrame(y_pred)"
   ]
  },
  {
   "cell_type": "code",
   "execution_count": 74,
   "metadata": {},
   "outputs": [],
   "source": [
    "dfs = dfs.drop(dfs.index[:9061])"
   ]
  },
  {
   "cell_type": "code",
   "execution_count": 75,
   "metadata": {},
   "outputs": [
    {
     "data": {
      "text/plain": [
       "(20000, 1)"
      ]
     },
     "execution_count": 75,
     "metadata": {},
     "output_type": "execute_result"
    }
   ],
   "source": [
    "dfs.shape"
   ]
  },
  {
   "cell_type": "code",
   "execution_count": 76,
   "metadata": {},
   "outputs": [],
   "source": [
    "dfx = pd.DataFrame(y_val)"
   ]
  },
  {
   "cell_type": "code",
   "execution_count": 77,
   "metadata": {},
   "outputs": [],
   "source": [
    "dfx = dfx.drop(dfx.index[:2535])"
   ]
  },
  {
   "cell_type": "code",
   "execution_count": 78,
   "metadata": {},
   "outputs": [
    {
     "data": {
      "text/plain": [
       "(20000, 1)"
      ]
     },
     "execution_count": 78,
     "metadata": {},
     "output_type": "execute_result"
    }
   ],
   "source": [
    "dfx.shape"
   ]
  },
  {
   "cell_type": "code",
   "execution_count": 79,
   "metadata": {},
   "outputs": [],
   "source": [
    "y_pred2 = dfs.values"
   ]
  },
  {
   "cell_type": "code",
   "execution_count": 80,
   "metadata": {},
   "outputs": [],
   "source": [
    "y_val2 = dfx.values"
   ]
  },
  {
   "cell_type": "code",
   "execution_count": 81,
   "metadata": {},
   "outputs": [
    {
     "name": "stdout",
     "output_type": "stream",
     "text": [
      "Accuracy: 0.7422\n"
     ]
    }
   ],
   "source": [
    "\n",
    "from sklearn.metrics import accuracy_score\n",
    "accuracy = accuracy_score(y_pred2,y_val2)\n",
    "print(\"Accuracy:\", accuracy)"
   ]
  },
  {
   "cell_type": "code",
   "execution_count": 82,
   "metadata": {},
   "outputs": [],
   "source": [
    "excel_file = pd.read_excel(\"output.xlsx\")"
   ]
  },
  {
   "cell_type": "code",
   "execution_count": 83,
   "metadata": {},
   "outputs": [],
   "source": [
    "excel_file_df = pd.DataFrame(excel_file)"
   ]
  },
  {
   "cell_type": "code",
   "execution_count": 84,
   "metadata": {},
   "outputs": [],
   "source": [
    "excel_file_df.to_csv(\"prediction.csv\")"
   ]
  },
  {
   "cell_type": "code",
   "execution_count": 1,
   "metadata": {},
   "outputs": [
    {
     "ename": "NameError",
     "evalue": "name 'y_pred' is not defined",
     "output_type": "error",
     "traceback": [
      "\u001b[0;31m---------------------------------------------------------------------------\u001b[0m",
      "\u001b[0;31mNameError\u001b[0m                                 Traceback (most recent call last)",
      "Cell \u001b[0;32mIn[1], line 1\u001b[0m\n\u001b[0;32m----> 1\u001b[0m \u001b[43my_pred\u001b[49m\n",
      "\u001b[0;31mNameError\u001b[0m: name 'y_pred' is not defined"
     ]
    }
   ],
   "source": [
    "y_pred"
   ]
  },
  {
   "cell_type": "code",
   "execution_count": null,
   "metadata": {},
   "outputs": [],
   "source": []
  }
 ],
 "metadata": {
  "kernelspec": {
   "display_name": "Python 3.11.3 64-bit ('3.11.3')",
   "language": "python",
   "name": "python3"
  },
  "language_info": {
   "codemirror_mode": {
    "name": "ipython",
    "version": 3
   },
   "file_extension": ".py",
   "mimetype": "text/x-python",
   "name": "python",
   "nbconvert_exporter": "python",
   "pygments_lexer": "ipython3",
   "version": "3.11.3"
  },
  "vscode": {
   "interpreter": {
    "hash": "6642255c2cef86f6396fb1db64d1f2f9fc9d650fd2646d067f2fefee5fe9fef9"
   }
  }
 },
 "nbformat": 4,
 "nbformat_minor": 2
}
